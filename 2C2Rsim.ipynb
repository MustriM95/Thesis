{
 "cells": [
  {
   "cell_type": "code",
   "execution_count": 5,
   "id": "7c87bf3d-15f1-4af3-a149-d04c88f55072",
   "metadata": {},
   "outputs": [],
   "source": [
    "using DifferentialEquations, ModelingToolkit, Distributions"
   ]
  },
  {
   "cell_type": "code",
   "execution_count": null,
   "id": "cb5fa227-26ed-45f7-95c8-5d12c4178936",
   "metadata": {},
   "outputs": [],
   "source": []
  }
 ],
 "metadata": {
  "kernelspec": {
   "display_name": "Julia 1.7.2",
   "language": "julia",
   "name": "julia-1.7"
  },
  "language_info": {
   "file_extension": ".jl",
   "mimetype": "application/julia",
   "name": "julia",
   "version": "1.7.2"
  }
 },
 "nbformat": 4,
 "nbformat_minor": 5
}
