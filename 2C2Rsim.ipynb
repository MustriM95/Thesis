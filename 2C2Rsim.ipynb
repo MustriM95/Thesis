{
 "cells": [
  {
   "cell_type": "code",
   "execution_count": 1,
   "id": "7c87bf3d-15f1-4af3-a149-d04c88f55072",
   "metadata": {},
   "outputs": [
    {
     "name": "stderr",
     "output_type": "stream",
     "text": [
      "\n",
      "(process:21736): GLib-GIO-WARNING **: 12:09:13.333: Unexpectedly, UWP app `Evernote.Evernote_10.36.4.0_x86__q4d96b2w5wcc2' (AUMId `Evernote.Evernote_q4d96b2w5wcc2!Evernote') supports 1 extensions but has no verbs\n"
     ]
    }
   ],
   "source": [
    "using DifferentialEquations, ModelingToolkit, Distributions, Plots, LinearAlgebra"
   ]
  },
  {
   "cell_type": "code",
   "execution_count": 4,
   "id": "cb5fa227-26ed-45f7-95c8-5d12c4178936",
   "metadata": {},
   "outputs": [],
   "source": [
    "using Symbolics: scalarize"
   ]
  },
  {
   "cell_type": "code",
   "execution_count": 5,
   "id": "b6be35c9-8529-40bc-8cb2-2359afc6713c",
   "metadata": {},
   "outputs": [
    {
     "data": {
      "text/plain": [
       "(::Differential) (generic function with 2 methods)"
      ]
     },
     "execution_count": 5,
     "metadata": {},
     "output_type": "execute_result"
    }
   ],
   "source": [
    "@variables t\n",
    "D = Differential(t)"
   ]
  },
  {
   "cell_type": "code",
   "execution_count": 15,
   "id": "d747477d-6e6a-4173-ba7e-ab142e0abe60",
   "metadata": {},
   "outputs": [
    {
     "data": {
      "text/plain": [
       "Mass (generic function with 1 method)"
      ]
     },
     "execution_count": 15,
     "metadata": {},
     "output_type": "execute_result"
    }
   ],
   "source": [
    "function Mass(; name, m = 1.0, xy = [0.,0.], u = [0., 0.])\n",
    "    ps = @parameters m=m\n",
    "    sts = @variables pos[1:2](t) = xy v[1:2](t) = u\n",
    "    eqs = scalarize(D.(pos) .~ v)\n",
    "    ODESystem(eqs, t, [pos..., v...], ps; name)\n",
    "end\n"
   ]
  },
  {
   "cell_type": "code",
   "execution_count": 7,
   "id": "59cb743c-3293-4935-8d3f-badf047017ad",
   "metadata": {},
   "outputs": [
    {
     "data": {
      "text/plain": [
       "Spring (generic function with 1 method)"
      ]
     },
     "execution_count": 7,
     "metadata": {},
     "output_type": "execute_result"
    }
   ],
   "source": [
    "function Spring(; name, k = 1e4, l = 1.)\n",
    "    ps = @parameters k=k l=l\n",
    "    @variables x(t) dir[1:2](t)\n",
    "    ODESystem(Equation[], t, [x, dir...], ps; name)\n",
    "end"
   ]
  },
  {
   "cell_type": "code",
   "execution_count": 10,
   "id": "51e7917d-a2eb-411f-a1e3-bc10e9f83460",
   "metadata": {},
   "outputs": [
    {
     "data": {
      "text/plain": [
       "connect_spring (generic function with 1 method)"
      ]
     },
     "execution_count": 10,
     "metadata": {},
     "output_type": "execute_result"
    }
   ],
   "source": [
    "function connect_spring(spring, a, b)\n",
    "    [\n",
    "        spring.x ~ norm(scalarize(a .- b))\n",
    "        scalarize(spring.dir .~ scalarize(a .- b))\n",
    "    ]\n",
    "end\n",
    "    "
   ]
  },
  {
   "cell_type": "code",
   "execution_count": 11,
   "id": "6ddffdd3-e58f-47ec-8c15-0ee75edd1528",
   "metadata": {},
   "outputs": [
    {
     "data": {
      "text/plain": [
       "spring_force (generic function with 1 method)"
      ]
     },
     "execution_count": 11,
     "metadata": {},
     "output_type": "execute_result"
    }
   ],
   "source": [
    "spring_force(spring) = -spring.k .* scalarize(spring.dir) .* (spring.x - spring.l) ./ spring.x"
   ]
  },
  {
   "cell_type": "code",
   "execution_count": 13,
   "id": "10765b7a-0b2b-4a7b-a9bf-0b879da33154",
   "metadata": {},
   "outputs": [
    {
     "data": {
      "text/plain": [
       "2-element Vector{Float64}:\n",
       "  0.0\n",
       " -9.81"
      ]
     },
     "execution_count": 13,
     "metadata": {},
     "output_type": "execute_result"
    }
   ],
   "source": [
    "m = 1.0\n",
    "xy = [1., -1.]\n",
    "k = 1e4\n",
    "l = 1.\n",
    "center = [0., 0.]\n",
    "g = [0., -9.81]"
   ]
  },
  {
   "cell_type": "code",
   "execution_count": 16,
   "id": "a1af8a15-f1fc-40fd-8476-aef06351353a",
   "metadata": {},
   "outputs": [
    {
     "data": {
      "text/latex": [
       "\\begin{align}\n",
       "\\end{align}\n"
      ],
      "text/plain": [
       "\u001b[0m\u001b[1mModel spring with 0 equations\u001b[22m\n",
       "\u001b[0m\u001b[1mStates (3):\u001b[22m\n",
       "  x(t)\n",
       "  dir[1](t)\n",
       "  dir[2](t)\n",
       "\u001b[0m\u001b[1mParameters (2):\u001b[22m\n",
       "  k [defaults to 10000.0]\n",
       "  l [defaults to 1.0]"
      ]
     },
     "execution_count": 16,
     "metadata": {},
     "output_type": "execute_result"
    }
   ],
   "source": [
    "@named mass = Mass(m=m, xy=xy)\n",
    "@named spring = Spring(k=k, l=l)"
   ]
  },
  {
   "cell_type": "code",
   "execution_count": 17,
   "id": "5a2784c0-f8b0-43e4-b912-22f9ffb560a4",
   "metadata": {},
   "outputs": [
    {
     "data": {
      "text/latex": [
       "\\begin{align}\n",
       "\\mathrm{spring_{+}x}\\left( t \\right) =& \\sqrt{\\left|\\mathrm{mass_{+}pos_1}\\left( t \\right)\\right|^{2} + \\left|\\mathrm{mass_{+}pos_2}\\left( t \\right)\\right|^{2}} \\\\\n",
       "\\mathrm{spring_{+}dir_1}\\left( t \\right) =& \\mathrm{mass_{+}pos_1}\\left( t \\right) \\\\\n",
       "\\mathrm{spring_{+}dir_2}\\left( t \\right) =& \\mathrm{mass_{+}pos_2}\\left( t \\right) \\\\\n",
       "\\frac{dmass_{+}v_1(t)}{dt} =& \\frac{ - spring_{+}k \\left(  - spring_{+}l + \\mathrm{spring_{+}x}\\left( t \\right) \\right) \\mathrm{spring_{+}dir_1}\\left( t \\right)}{mass_{+}m \\mathrm{spring_{+}x}\\left( t \\right)} \\\\\n",
       "\\frac{dmass_{+}v_2(t)}{dt} =& -9.81 + \\frac{ - spring_{+}k \\left(  - spring_{+}l + \\mathrm{spring_{+}x}\\left( t \\right) \\right) \\mathrm{spring_{+}dir_2}\\left( t \\right)}{mass_{+}m \\mathrm{spring_{+}x}\\left( t \\right)}\n",
       "\\end{align}\n"
      ],
      "text/plain": [
       "5-element Vector{Equation}:\n",
       " spring₊x(t) ~ sqrt(abs2(mass₊pos[1](t)) + abs2(mass₊pos[2](t)))\n",
       " spring₊dir[1](t) ~ mass₊pos[1](t)\n",
       " spring₊dir[2](t) ~ mass₊pos[2](t)\n",
       " Differential(t)(mass₊v[1](t)) ~ (-spring₊k*(spring₊x(t) - spring₊l)*spring₊dir[1](t)) / (mass₊m*spring₊x(t))\n",
       " Differential(t)(mass₊v[2](t)) ~ (-spring₊k*(spring₊x(t) - spring₊l)*spring₊dir[2](t)) / (mass₊m*spring₊x(t)) - 9.81"
      ]
     },
     "execution_count": 17,
     "metadata": {},
     "output_type": "execute_result"
    }
   ],
   "source": [
    "eqs = [\n",
    "    connect_spring(spring, mass.pos, center)\n",
    "    scalarize(D.(mass.v) .~ spring_force(spring) / mass.m .+ g)\n",
    "    ]"
   ]
  },
  {
   "cell_type": "code",
   "execution_count": 22,
   "id": "c3e17843-244d-4291-a9bd-3d43fe200929",
   "metadata": {},
   "outputs": [
    {
     "ename": "LoadError",
     "evalue": "UndefVarError: p not defined",
     "output_type": "error",
     "traceback": [
      "UndefVarError: p not defined",
      "",
      "Stacktrace:",
      " [1] top-level scope",
      "   @ In[22]:1",
      " [2] eval",
      "   @ .\\boot.jl:373 [inlined]",
      " [3] include_string(mapexpr::typeof(REPL.softscope), mod::Module, code::String, filename::String)",
      "   @ Base .\\loading.jl:1196"
     ]
    }
   ],
   "source": [
    "@named _model = ODESystem(eqs, t)\n",
    "@named model = compose(_model, mass, spring)\n",
    "sys = structural_simplify(model)"
   ]
  },
  {
   "cell_type": "code",
   "execution_count": 20,
   "id": "401736cd-9462-4303-a28d-8283837cb864",
   "metadata": {},
   "outputs": [
    {
     "data": {
      "text/plain": [
       "\u001b[36mODEProblem\u001b[0m with uType \u001b[36mVector{Term{Float64, Nothing}}\u001b[0m and tType \u001b[36mFloat64\u001b[0m. In-place: \u001b[36mtrue\u001b[0m\n",
       "timespan: (0.0, 3.0)\n",
       "u0: 4-element Vector{Term{Float64, Nothing}}:\n",
       " [0.0, 0.0][i]\n",
       " [0.0, 0.0][i]\n",
       " [1.0, -1.0][i]\n",
       " [1.0, -1.0][i]"
      ]
     },
     "execution_count": 20,
     "metadata": {},
     "output_type": "execute_result"
    }
   ],
   "source": [
    "prob = ODEProblem(sys, [], (0., 3.))\n"
   ]
  },
  {
   "cell_type": "code",
   "execution_count": 21,
   "id": "37d62900-616c-4ae7-b9be-7be379fc6bdc",
   "metadata": {},
   "outputs": [
    {
     "ename": "LoadError",
     "evalue": "MethodError: no method matching oneunit(::Type{Any})\n\u001b[0mClosest candidates are:\n\u001b[0m  oneunit(::Type{Union{Missing, T}}) where T at C:\\Users\\micho\\AppData\\Local\\Programs\\Julia-1.7.2\\share\\julia\\base\\missing.jl:105\n\u001b[0m  oneunit(::Type{T}) where T at C:\\Users\\micho\\AppData\\Local\\Programs\\Julia-1.7.2\\share\\julia\\base\\number.jl:358\n\u001b[0m  oneunit(::T) where T at C:\\Users\\micho\\AppData\\Local\\Programs\\Julia-1.7.2\\share\\julia\\base\\number.jl:357\n\u001b[0m  ...",
     "output_type": "error",
     "traceback": [
      "MethodError: no method matching oneunit(::Type{Any})\n\u001b[0mClosest candidates are:\n\u001b[0m  oneunit(::Type{Union{Missing, T}}) where T at C:\\Users\\micho\\AppData\\Local\\Programs\\Julia-1.7.2\\share\\julia\\base\\missing.jl:105\n\u001b[0m  oneunit(::Type{T}) where T at C:\\Users\\micho\\AppData\\Local\\Programs\\Julia-1.7.2\\share\\julia\\base\\number.jl:358\n\u001b[0m  oneunit(::T) where T at C:\\Users\\micho\\AppData\\Local\\Programs\\Julia-1.7.2\\share\\julia\\base\\number.jl:357\n\u001b[0m  ...",
      "",
      "Stacktrace:",
      "  [1] oneunit(#unused#::Type{Any})",
      "    @ Base .\\missing.jl:106",
      "  [2] __init(prob::ODEProblem{Vector{Term{Float64, Nothing}}, Tuple{Float64, Float64}, true, Vector{Float64}, ODEFunction{true, ModelingToolkit.var\"#f#387\"{RuntimeGeneratedFunctions.RuntimeGeneratedFunction{(:ˍ₋arg1, :ˍ₋arg2, :t), ModelingToolkit.var\"#_RGF_ModTag\", ModelingToolkit.var\"#_RGF_ModTag\", (0x31f439c4, 0xa195e335, 0x8a9e3a3b, 0x9d947283, 0xfcc0cf49)}, RuntimeGeneratedFunctions.RuntimeGeneratedFunction{(:ˍ₋out, :ˍ₋arg1, :ˍ₋arg2, :t), ModelingToolkit.var\"#_RGF_ModTag\", ModelingToolkit.var\"#_RGF_ModTag\", (0xf78ba054, 0xaea87fe0, 0x6543f658, 0xa0e37e2d, 0x6bfd4247)}}, UniformScaling{Bool}, Nothing, Nothing, Nothing, Nothing, Nothing, Nothing, Nothing, Nothing, Nothing, Nothing, Vector{Symbol}, Symbol, ModelingToolkit.var\"#400#generated_observed#394\"{Bool, ODESystem, Dict{Any, Any}}, Nothing}, Base.Pairs{Symbol, Union{}, Tuple{}, NamedTuple{(), Tuple{}}}, SciMLBase.StandardODEProblem}, alg::Rosenbrock23{4, true, GenericLUFactorization{RowMaximum}, typeof(OrdinaryDiffEq.DEFAULT_PRECS), Val{:forward}, true, nothing}, timeseries_init::Tuple{}, ts_init::Tuple{}, ks_init::Tuple{}, recompile::Type{Val{true}}; saveat::Tuple{}, tstops::Tuple{}, d_discontinuities::Tuple{}, save_idxs::Nothing, save_everystep::Bool, save_on::Bool, save_start::Bool, save_end::Nothing, callback::Nothing, dense::Bool, calck::Bool, dt::Float64, dtmin::Nothing, dtmax::Float64, force_dtmin::Bool, adaptive::Bool, gamma::Rational{Int64}, abstol::Nothing, reltol::Nothing, qmin::Rational{Int64}, qmax::Int64, qsteady_min::Int64, qsteady_max::Rational{Int64}, beta1::Nothing, beta2::Nothing, qoldinit::Rational{Int64}, controller::Nothing, fullnormalize::Bool, failfactor::Int64, maxiters::Int64, internalnorm::typeof(DiffEqBase.ODE_DEFAULT_NORM), internalopnorm::typeof(opnorm), isoutofdomain::typeof(DiffEqBase.ODE_DEFAULT_ISOUTOFDOMAIN), unstable_check::typeof(DiffEqBase.ODE_DEFAULT_UNSTABLE_CHECK), verbose::Bool, timeseries_errors::Bool, dense_errors::Bool, advance_to_tstop::Bool, stop_at_next_tstop::Bool, initialize_save::Bool, progress::Bool, progress_steps::Int64, progress_name::String, progress_message::typeof(DiffEqBase.ODE_DEFAULT_PROG_MESSAGE), userdata::Nothing, allow_extrapolation::Bool, initialize_integrator::Bool, alias_u0::Bool, alias_du0::Bool, initializealg::OrdinaryDiffEq.DefaultInit, kwargs::Base.Pairs{Symbol, Union{}, Tuple{}, NamedTuple{(), Tuple{}}})",
      "    @ OrdinaryDiffEq C:\\Users\\micho\\.julia\\packages\\OrdinaryDiffEq\\ZBye7\\src\\solve.jl:159",
      "  [3] __init(prob::ODEProblem{Vector{Term{Float64, Nothing}}, Tuple{Float64, Float64}, true, Vector{Float64}, ODEFunction{true, ModelingToolkit.var\"#f#387\"{RuntimeGeneratedFunctions.RuntimeGeneratedFunction{(:ˍ₋arg1, :ˍ₋arg2, :t), ModelingToolkit.var\"#_RGF_ModTag\", ModelingToolkit.var\"#_RGF_ModTag\", (0x31f439c4, 0xa195e335, 0x8a9e3a3b, 0x9d947283, 0xfcc0cf49)}, RuntimeGeneratedFunctions.RuntimeGeneratedFunction{(:ˍ₋out, :ˍ₋arg1, :ˍ₋arg2, :t), ModelingToolkit.var\"#_RGF_ModTag\", ModelingToolkit.var\"#_RGF_ModTag\", (0xf78ba054, 0xaea87fe0, 0x6543f658, 0xa0e37e2d, 0x6bfd4247)}}, UniformScaling{Bool}, Nothing, Nothing, Nothing, Nothing, Nothing, Nothing, Nothing, Nothing, Nothing, Nothing, Vector{Symbol}, Symbol, ModelingToolkit.var\"#400#generated_observed#394\"{Bool, ODESystem, Dict{Any, Any}}, Nothing}, Base.Pairs{Symbol, Union{}, Tuple{}, NamedTuple{(), Tuple{}}}, SciMLBase.StandardODEProblem}, alg::Rosenbrock23{4, true, GenericLUFactorization{RowMaximum}, typeof(OrdinaryDiffEq.DEFAULT_PRECS), Val{:forward}, true, nothing}, timeseries_init::Tuple{}, ts_init::Tuple{}, ks_init::Tuple{}, recompile::Type{Val{true}}) (repeats 5 times)",
      "    @ OrdinaryDiffEq C:\\Users\\micho\\.julia\\packages\\OrdinaryDiffEq\\ZBye7\\src\\solve.jl:67",
      "  [4] __solve(::ODEProblem{Vector{Term{Float64, Nothing}}, Tuple{Float64, Float64}, true, Vector{Float64}, ODEFunction{true, ModelingToolkit.var\"#f#387\"{RuntimeGeneratedFunctions.RuntimeGeneratedFunction{(:ˍ₋arg1, :ˍ₋arg2, :t), ModelingToolkit.var\"#_RGF_ModTag\", ModelingToolkit.var\"#_RGF_ModTag\", (0x31f439c4, 0xa195e335, 0x8a9e3a3b, 0x9d947283, 0xfcc0cf49)}, RuntimeGeneratedFunctions.RuntimeGeneratedFunction{(:ˍ₋out, :ˍ₋arg1, :ˍ₋arg2, :t), ModelingToolkit.var\"#_RGF_ModTag\", ModelingToolkit.var\"#_RGF_ModTag\", (0xf78ba054, 0xaea87fe0, 0x6543f658, 0xa0e37e2d, 0x6bfd4247)}}, UniformScaling{Bool}, Nothing, Nothing, Nothing, Nothing, Nothing, Nothing, Nothing, Nothing, Nothing, Nothing, Vector{Symbol}, Symbol, ModelingToolkit.var\"#400#generated_observed#394\"{Bool, ODESystem, Dict{Any, Any}}, Nothing}, Base.Pairs{Symbol, Union{}, Tuple{}, NamedTuple{(), Tuple{}}}, SciMLBase.StandardODEProblem}, ::Rosenbrock23{4, true, GenericLUFactorization{RowMaximum}, typeof(OrdinaryDiffEq.DEFAULT_PRECS), Val{:forward}, true, nothing}; kwargs::Base.Pairs{Symbol, Union{}, Tuple{}, NamedTuple{(), Tuple{}}})",
      "    @ OrdinaryDiffEq C:\\Users\\micho\\.julia\\packages\\OrdinaryDiffEq\\ZBye7\\src\\solve.jl:4",
      "  [5] __solve(::ODEProblem{Vector{Term{Float64, Nothing}}, Tuple{Float64, Float64}, true, Vector{Float64}, ODEFunction{true, ModelingToolkit.var\"#f#387\"{RuntimeGeneratedFunctions.RuntimeGeneratedFunction{(:ˍ₋arg1, :ˍ₋arg2, :t), ModelingToolkit.var\"#_RGF_ModTag\", ModelingToolkit.var\"#_RGF_ModTag\", (0x31f439c4, 0xa195e335, 0x8a9e3a3b, 0x9d947283, 0xfcc0cf49)}, RuntimeGeneratedFunctions.RuntimeGeneratedFunction{(:ˍ₋out, :ˍ₋arg1, :ˍ₋arg2, :t), ModelingToolkit.var\"#_RGF_ModTag\", ModelingToolkit.var\"#_RGF_ModTag\", (0xf78ba054, 0xaea87fe0, 0x6543f658, 0xa0e37e2d, 0x6bfd4247)}}, UniformScaling{Bool}, Nothing, Nothing, Nothing, Nothing, Nothing, Nothing, Nothing, Nothing, Nothing, Nothing, Vector{Symbol}, Symbol, ModelingToolkit.var\"#400#generated_observed#394\"{Bool, ODESystem, Dict{Any, Any}}, Nothing}, Base.Pairs{Symbol, Union{}, Tuple{}, NamedTuple{(), Tuple{}}}, SciMLBase.StandardODEProblem}, ::Rosenbrock23{4, true, GenericLUFactorization{RowMaximum}, typeof(OrdinaryDiffEq.DEFAULT_PRECS), Val{:forward}, true, nothing})",
      "    @ OrdinaryDiffEq C:\\Users\\micho\\.julia\\packages\\OrdinaryDiffEq\\ZBye7\\src\\solve.jl:4",
      "  [6] solve_call(_prob::ODEProblem{Vector{Term{Float64, Nothing}}, Tuple{Float64, Float64}, true, Vector{Float64}, ODEFunction{true, ModelingToolkit.var\"#f#387\"{RuntimeGeneratedFunctions.RuntimeGeneratedFunction{(:ˍ₋arg1, :ˍ₋arg2, :t), ModelingToolkit.var\"#_RGF_ModTag\", ModelingToolkit.var\"#_RGF_ModTag\", (0x31f439c4, 0xa195e335, 0x8a9e3a3b, 0x9d947283, 0xfcc0cf49)}, RuntimeGeneratedFunctions.RuntimeGeneratedFunction{(:ˍ₋out, :ˍ₋arg1, :ˍ₋arg2, :t), ModelingToolkit.var\"#_RGF_ModTag\", ModelingToolkit.var\"#_RGF_ModTag\", (0xf78ba054, 0xaea87fe0, 0x6543f658, 0xa0e37e2d, 0x6bfd4247)}}, UniformScaling{Bool}, Nothing, Nothing, Nothing, Nothing, Nothing, Nothing, Nothing, Nothing, Nothing, Nothing, Vector{Symbol}, Symbol, ModelingToolkit.var\"#400#generated_observed#394\"{Bool, ODESystem, Dict{Any, Any}}, Nothing}, Base.Pairs{Symbol, Union{}, Tuple{}, NamedTuple{(), Tuple{}}}, SciMLBase.StandardODEProblem}, args::Rosenbrock23{4, true, GenericLUFactorization{RowMaximum}, typeof(OrdinaryDiffEq.DEFAULT_PRECS), Val{:forward}, true, nothing}; merge_callbacks::Bool, kwargs::Base.Pairs{Symbol, Union{}, Tuple{}, NamedTuple{(), Tuple{}}})",
      "    @ DiffEqBase C:\\Users\\micho\\.julia\\packages\\DiffEqBase\\U3LtB\\src\\solve.jl:155",
      "  [7] solve_call(_prob::ODEProblem{Vector{Term{Float64, Nothing}}, Tuple{Float64, Float64}, true, Vector{Float64}, ODEFunction{true, ModelingToolkit.var\"#f#387\"{RuntimeGeneratedFunctions.RuntimeGeneratedFunction{(:ˍ₋arg1, :ˍ₋arg2, :t), ModelingToolkit.var\"#_RGF_ModTag\", ModelingToolkit.var\"#_RGF_ModTag\", (0x31f439c4, 0xa195e335, 0x8a9e3a3b, 0x9d947283, 0xfcc0cf49)}, RuntimeGeneratedFunctions.RuntimeGeneratedFunction{(:ˍ₋out, :ˍ₋arg1, :ˍ₋arg2, :t), ModelingToolkit.var\"#_RGF_ModTag\", ModelingToolkit.var\"#_RGF_ModTag\", (0xf78ba054, 0xaea87fe0, 0x6543f658, 0xa0e37e2d, 0x6bfd4247)}}, UniformScaling{Bool}, Nothing, Nothing, Nothing, Nothing, Nothing, Nothing, Nothing, Nothing, Nothing, Nothing, Vector{Symbol}, Symbol, ModelingToolkit.var\"#400#generated_observed#394\"{Bool, ODESystem, Dict{Any, Any}}, Nothing}, Base.Pairs{Symbol, Union{}, Tuple{}, NamedTuple{(), Tuple{}}}, SciMLBase.StandardODEProblem}, args::Rosenbrock23{4, true, GenericLUFactorization{RowMaximum}, typeof(OrdinaryDiffEq.DEFAULT_PRECS), Val{:forward}, true, nothing})",
      "    @ DiffEqBase C:\\Users\\micho\\.julia\\packages\\DiffEqBase\\U3LtB\\src\\solve.jl:142",
      "  [8] solve_up(prob::ODEProblem{Vector{Term{Float64, Nothing}}, Tuple{Float64, Float64}, true, Vector{Float64}, ODEFunction{true, ModelingToolkit.var\"#f#387\"{RuntimeGeneratedFunctions.RuntimeGeneratedFunction{(:ˍ₋arg1, :ˍ₋arg2, :t), ModelingToolkit.var\"#_RGF_ModTag\", ModelingToolkit.var\"#_RGF_ModTag\", (0x31f439c4, 0xa195e335, 0x8a9e3a3b, 0x9d947283, 0xfcc0cf49)}, RuntimeGeneratedFunctions.RuntimeGeneratedFunction{(:ˍ₋out, :ˍ₋arg1, :ˍ₋arg2, :t), ModelingToolkit.var\"#_RGF_ModTag\", ModelingToolkit.var\"#_RGF_ModTag\", (0xf78ba054, 0xaea87fe0, 0x6543f658, 0xa0e37e2d, 0x6bfd4247)}}, UniformScaling{Bool}, Nothing, Nothing, Nothing, Nothing, Nothing, Nothing, Nothing, Nothing, Nothing, Nothing, Vector{Symbol}, Symbol, ModelingToolkit.var\"#400#generated_observed#394\"{Bool, ODESystem, Dict{Any, Any}}, Nothing}, Base.Pairs{Symbol, Union{}, Tuple{}, NamedTuple{(), Tuple{}}}, SciMLBase.StandardODEProblem}, sensealg::Nothing, u0::Vector{Term{Float64, Nothing}}, p::Vector{Float64}, args::Rosenbrock23{0, true, Nothing, typeof(OrdinaryDiffEq.DEFAULT_PRECS), Val{:forward}, true, nothing}; kwargs::Base.Pairs{Symbol, Union{}, Tuple{}, NamedTuple{(), Tuple{}}})",
      "    @ DiffEqBase C:\\Users\\micho\\.julia\\packages\\DiffEqBase\\U3LtB\\src\\solve.jl:182",
      "  [9] solve_up(prob::ODEProblem{Vector{Term{Float64, Nothing}}, Tuple{Float64, Float64}, true, Vector{Float64}, ODEFunction{true, ModelingToolkit.var\"#f#387\"{RuntimeGeneratedFunctions.RuntimeGeneratedFunction{(:ˍ₋arg1, :ˍ₋arg2, :t), ModelingToolkit.var\"#_RGF_ModTag\", ModelingToolkit.var\"#_RGF_ModTag\", (0x31f439c4, 0xa195e335, 0x8a9e3a3b, 0x9d947283, 0xfcc0cf49)}, RuntimeGeneratedFunctions.RuntimeGeneratedFunction{(:ˍ₋out, :ˍ₋arg1, :ˍ₋arg2, :t), ModelingToolkit.var\"#_RGF_ModTag\", ModelingToolkit.var\"#_RGF_ModTag\", (0xf78ba054, 0xaea87fe0, 0x6543f658, 0xa0e37e2d, 0x6bfd4247)}}, UniformScaling{Bool}, Nothing, Nothing, Nothing, Nothing, Nothing, Nothing, Nothing, Nothing, Nothing, Nothing, Vector{Symbol}, Symbol, ModelingToolkit.var\"#400#generated_observed#394\"{Bool, ODESystem, Dict{Any, Any}}, Nothing}, Base.Pairs{Symbol, Union{}, Tuple{}, NamedTuple{(), Tuple{}}}, SciMLBase.StandardODEProblem}, sensealg::Nothing, u0::Vector{Term{Float64, Nothing}}, p::Vector{Float64}, args::Rosenbrock23{0, true, Nothing, typeof(OrdinaryDiffEq.DEFAULT_PRECS), Val{:forward}, true, nothing})",
      "    @ DiffEqBase C:\\Users\\micho\\.julia\\packages\\DiffEqBase\\U3LtB\\src\\solve.jl:173",
      " [10] solve(prob::ODEProblem{Vector{Term{Float64, Nothing}}, Tuple{Float64, Float64}, true, Vector{Float64}, ODEFunction{true, ModelingToolkit.var\"#f#387\"{RuntimeGeneratedFunctions.RuntimeGeneratedFunction{(:ˍ₋arg1, :ˍ₋arg2, :t), ModelingToolkit.var\"#_RGF_ModTag\", ModelingToolkit.var\"#_RGF_ModTag\", (0x31f439c4, 0xa195e335, 0x8a9e3a3b, 0x9d947283, 0xfcc0cf49)}, RuntimeGeneratedFunctions.RuntimeGeneratedFunction{(:ˍ₋out, :ˍ₋arg1, :ˍ₋arg2, :t), ModelingToolkit.var\"#_RGF_ModTag\", ModelingToolkit.var\"#_RGF_ModTag\", (0xf78ba054, 0xaea87fe0, 0x6543f658, 0xa0e37e2d, 0x6bfd4247)}}, UniformScaling{Bool}, Nothing, Nothing, Nothing, Nothing, Nothing, Nothing, Nothing, Nothing, Nothing, Nothing, Vector{Symbol}, Symbol, ModelingToolkit.var\"#400#generated_observed#394\"{Bool, ODESystem, Dict{Any, Any}}, Nothing}, Base.Pairs{Symbol, Union{}, Tuple{}, NamedTuple{(), Tuple{}}}, SciMLBase.StandardODEProblem}, args::Rosenbrock23{0, true, Nothing, typeof(OrdinaryDiffEq.DEFAULT_PRECS), Val{:forward}, true, nothing}; sensealg::Nothing, u0::Nothing, p::Nothing, kwargshandle::KeywordArgError, kwargs::Base.Pairs{Symbol, Union{}, Tuple{}, NamedTuple{(), Tuple{}}})",
      "    @ DiffEqBase C:\\Users\\micho\\.julia\\packages\\DiffEqBase\\U3LtB\\src\\solve.jl:168",
      " [11] solve(prob::ODEProblem{Vector{Term{Float64, Nothing}}, Tuple{Float64, Float64}, true, Vector{Float64}, ODEFunction{true, ModelingToolkit.var\"#f#387\"{RuntimeGeneratedFunctions.RuntimeGeneratedFunction{(:ˍ₋arg1, :ˍ₋arg2, :t), ModelingToolkit.var\"#_RGF_ModTag\", ModelingToolkit.var\"#_RGF_ModTag\", (0x31f439c4, 0xa195e335, 0x8a9e3a3b, 0x9d947283, 0xfcc0cf49)}, RuntimeGeneratedFunctions.RuntimeGeneratedFunction{(:ˍ₋out, :ˍ₋arg1, :ˍ₋arg2, :t), ModelingToolkit.var\"#_RGF_ModTag\", ModelingToolkit.var\"#_RGF_ModTag\", (0xf78ba054, 0xaea87fe0, 0x6543f658, 0xa0e37e2d, 0x6bfd4247)}}, UniformScaling{Bool}, Nothing, Nothing, Nothing, Nothing, Nothing, Nothing, Nothing, Nothing, Nothing, Nothing, Vector{Symbol}, Symbol, ModelingToolkit.var\"#400#generated_observed#394\"{Bool, ODESystem, Dict{Any, Any}}, Nothing}, Base.Pairs{Symbol, Union{}, Tuple{}, NamedTuple{(), Tuple{}}}, SciMLBase.StandardODEProblem}, args::Rosenbrock23{0, true, Nothing, typeof(OrdinaryDiffEq.DEFAULT_PRECS), Val{:forward}, true, nothing})",
      "    @ DiffEqBase C:\\Users\\micho\\.julia\\packages\\DiffEqBase\\U3LtB\\src\\solve.jl:162",
      " [12] top-level scope",
      "    @ In[21]:1",
      " [13] eval",
      "    @ .\\boot.jl:373 [inlined]",
      " [14] include_string(mapexpr::typeof(REPL.softscope), mod::Module, code::String, filename::String)",
      "    @ Base .\\loading.jl:1196"
     ]
    }
   ],
   "source": [
    "sol = solve(prob, Rosenbrock23())\n"
   ]
  },
  {
   "cell_type": "code",
   "execution_count": null,
   "id": "4ffe3f75-a358-4a3a-8843-76351fd40c97",
   "metadata": {},
   "outputs": [],
   "source": [
    "plot(sol)"
   ]
  }
 ],
 "metadata": {
  "kernelspec": {
   "display_name": "Julia 1.7.2",
   "language": "julia",
   "name": "julia-1.7"
  },
  "language_info": {
   "file_extension": ".jl",
   "mimetype": "application/julia",
   "name": "julia",
   "version": "1.7.2"
  }
 },
 "nbformat": 4,
 "nbformat_minor": 5
}
