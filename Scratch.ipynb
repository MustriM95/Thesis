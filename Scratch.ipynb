{
 "cells": [
  {
   "cell_type": "markdown",
   "id": "f9784c64-009f-417d-9505-828e27302f1e",
   "metadata": {},
   "source": [
    "# Things that were scratched but may be useful"
   ]
  },
  {
   "cell_type": "markdown",
   "id": "6e4d8d8d-533e-4b2d-9030-b9c080d5d11b",
   "metadata": {},
   "source": [
    "### Concentration parameters\n",
    "To begin with, family-level consumption parameters are deterimined by two quantities: $\\theta_{\\alpha}^{f}$, the concentration parameter of resource $\\alpha$ belonging to family $f$, and $\\Omega_{f}$, the magnitude of all concentration parameters such that $ \\Omega_{f} = \\sum \\limits _{\\alpha} \\theta_{\\alpha}^{f} $.\n",
    "<br> \n",
    "For a given family $f$ we wish to construct a group of consumers with a tunable degree of preference for a resource $\\alpha = f$. We first define $\\theta^{f\\prime} = \\{ \\theta_{1}^{f \\prime}, \\dots , \\theta_{M}^{f \\prime} \\} $ such that for $\\alpha = f$, $\\theta_{\\alpha = f}^{f \\prime}$ is drawn from a Gaussian distribution.\n",
    "<br><br>\n",
    "$\\large \\theta_{\\alpha = f}^{f \\prime} \\sim {\\sf Norm}(\\mu, \\sigma) $\n",
    "<br><br>\n",
    "And all of the other concentration parameters $\\theta_{\\alpha \\neq f}^{f \\prime}$ are drawn from a uniform distribution.\n",
    "<br><br>\n",
    "$\\large \\theta_{\\alpha \\neq f}^{f \\prime} \\sim {\\sf Uniform}(0, 1) $\n",
    "<br><br>\n",
    "The concentration parameters are then normalized according to the following relationship:\n",
    "<br><br>\n",
    "$\\large\\theta_{\\alpha \\neq f}^{f} = (1 - \\theta_{\\alpha = f}^{f})\\frac{\\theta_{\\alpha \\neq f}^{f \\prime}}{\\sum \\limits _{\\gamma \\neq f} \\theta_{\\gamma}^{f}} $\n",
    "<br>\n",
    "Where $\\theta_{\\alpha = f}^{f}$ can arbitrarily be chosen as $\\theta_{\\alpha = f}^{f} = \\theta_{\\alpha = f}^{f \\prime}$. Having defined the structure of $\\theta_{\\alpha}^{f}$, we may now use the concentration parameters to build the consumer preference matrix."
   ]
  },
  {
   "cell_type": "markdown",
   "id": "682fb90b-0ec8-4fe2-a46a-4b694e8ac3df",
   "metadata": {},
   "source": [
    "### Drawing consumer uptakes from a dirichlet distribution\n",
    "Drawing $C_{i \\alpha}$ from a dirichlet distribution mimics the scenario where, given a number of available resources, a certain species $i$, belonging to a family $f$, has non-random probability of being able to break down a resource $\\alpha$. In this case the probability density function is confined within the M-dimensional space defined by the (M-1)-simplex (M being the number of available resources), each vertex representing the ability to break down a specific resource. Using the family concentration parameters $\\theta_{\\alpha}^{f}$ and $\\Omega_{f}$ we can define relative uptake coefficients such that:\n",
    "<br><br>\n",
    "$\\large \\{C_{i1}^{\\prime}, \\dots, C_{iM}^{\\prime} \\} \\sim {\\sf Dirichlet}(\\Omega_{f} \\theta_{1}^{f}, \\dots, \\Omega_{f} \\theta_{M}^{f}) $\n",
    "<br><br>\n",
    "Here $\\Omega_{f}$ and $\\theta_{\\alpha}^{f}$ serve two different purposes. The magnitude of concentration parameters, $\\Omega_{f}$ sets how similar or how variable species in a family are in their resource preferences, high values of $\\Omega_{f}$ will concentrate the probability distribution function around a center of mass (family members have very similar resource preferences), whereas small values of $\\Omega_{f}$ will distribute the probabilities more evenly (high variability between family members). The values of $\\theta_{\\alpha}^{f}$, on the other hand, determine the skweness of the probability, high values of $\\theta_{\\alpha}^{f}$ mean that the pdf is more clustered near the vertex corresponding to the resource $\\alpha$ while lower values mean that the pdf is clustered away from that vertex.\n",
    "<br>\n",
    "\n",
    "**Note: this remains the best way to do it to my knowledge, we can simply get rid of the families and use the multinomial structure to represent the odds of being able to uptake a different assortment of resources. This maintains the constraint while motivating the structure of the uptake matrix.**"
   ]
  },
  {
   "cell_type": "markdown",
   "id": "472895aa-e8ec-4cae-9f1d-7490c24de90a",
   "metadata": {},
   "source": []
  }
 ],
 "metadata": {
  "kernelspec": {
   "display_name": "Python 3 (ipykernel)",
   "language": "python",
   "name": "python3"
  },
  "language_info": {
   "codemirror_mode": {
    "name": "ipython",
    "version": 3
   },
   "file_extension": ".py",
   "mimetype": "text/x-python",
   "name": "python",
   "nbconvert_exporter": "python",
   "pygments_lexer": "ipython3",
   "version": "3.10.4"
  }
 },
 "nbformat": 4,
 "nbformat_minor": 5
}
