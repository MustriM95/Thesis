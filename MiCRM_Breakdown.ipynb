{
 "cells": [
  {
   "cell_type": "markdown",
   "id": "265ea707-11cc-449e-ae8f-2da75d621599",
   "metadata": {},
   "source": []
  },
  {
   "cell_type": "markdown",
   "id": "605af7ea-d754-4d10-8f34-4b99c153767a",
   "metadata": {},
   "source": [
    "# Microbial Consumer Resource Model "
   ]
  },
  {
   "cell_type": "markdown",
   "id": "1104815c-d88f-45c0-8592-cdaaa3e553da",
   "metadata": {},
   "source": [
    "$ \\Large \\frac{1}{N_{i}} \\frac{dN_{i}}{dt} = \\sum \\limits _{\\alpha = 1} ^{M} \\Delta w_{i \\alpha} C_{i\\alpha} R_{\\alpha} - m_{i} $"
   ]
  },
  {
   "cell_type": "markdown",
   "id": "18bdffe2-8da3-4c37-8d01-3afe24d795a6",
   "metadata": {},
   "source": [
    "$ \\Large \\frac{dR_{\\beta}}{dt} = S_{\\beta} - \\sum \\limits _{i = 1} ^{S} C_{i\\beta} R_{\\beta} N_{i} + \\sum \\limits _{\\alpha = 1} ^{M} \\sum \\limits _{i=1} ^{S}\n",
    "D_{\\beta \\alpha}^{i}C_{i \\alpha} N_{i} R_{\\alpha}  $"
   ]
  },
  {
   "cell_type": "markdown",
   "id": "9b62efbb-f905-4a7c-b7e3-08132e0b34b0",
   "metadata": {},
   "source": [
    "| Symbol | Definition | Units |\n",
    "| :- | :- | :-: |\n",
    "| $N_{i}$ | Biomass of $i^{th}$ consumer | mass |\n",
    "| $ R_{\\alpha} $ | Concentration of the $\\alpha^{th}$ resource | mass/volume |\n",
    "| $ \\Delta w_{i \\alpha} $ | Biomass produced by species $i$ given uptake of a volume of resource $\\alpha$ after metabolite leakage | mass/mass/volume |\n",
    "| $ C_{i \\alpha} $ | Uptake rate of species $i$ per unit concentration of resource $\\alpha$ | 1/mass \\*time |\n",
    "| $ m_{i} $ |  Maitenance biomass utilization of $i^{th}$ species | 1/time |\n",
    "| $ S_{\\beta} $ | Supply of resource $\\beta$ | mass/volume \\*time |\n",
    "| $ D_{\\alpha \\beta }^{i} $ | Stoichiometric matrix, number of molecules of resource $\\beta$ secreted by species $i$ through the consumption of resource $\\alpha$ | unitless |"
   ]
  },
  {
   "cell_type": "markdown",
   "id": "0a8d7ed0-29f1-46ed-b78a-df6b56e42559",
   "metadata": {},
   "source": [
    "Additionally $\\Delta w_{i\\alpha} = w_{\\alpha} - \\sum \\limits _{\\beta = 1} ^{M} D_{\\beta \\alpha}^{i}w_{\\beta} $.\n",
    "Where $w_{\\alpha}$ is the ATP yield of resource $\\alpha$ and $\\sum \\limits _{\\beta = 1} ^{M} D_{\\beta \\alpha}^{i}w_{\\beta}$ is the total ATP yield of all metabolic byproducts."
   ]
  },
  {
   "cell_type": "markdown",
   "id": "39770626-501a-4f77-84c6-40b590580243",
   "metadata": {},
   "source": [
    "# Constraints"
   ]
  },
  {
   "cell_type": "markdown",
   "id": "078c35ca-a9df-4f15-954a-595a50d27585",
   "metadata": {},
   "source": [
    "## Energy conservation\n",
    "To guarantee that no energy/mass is created through the leaking of metabolites we impose a simple constraint on $\\Delta w_{i \\alpha} $. Stated explicitely, the maximum ATP yeild of resource $\\alpha$ must exceed the total ATP yield of all metabolic byproducts. \n",
    "<br>\n",
    "$ w_{\\alpha} > \\sum \\limits _{\\beta = 1} ^{M} D_{\\beta \\alpha}^{i} w_{\\beta} $"
   ]
  },
  {
   "cell_type": "markdown",
   "id": "d07b7bca-4885-4eb9-8a6b-7fc6693149f3",
   "metadata": {
    "tags": []
   },
   "source": [
    "## Metabolic tradeoffs\n",
    "From a biological standpoint, microbes can only allocate a finite amount of cellular resources to nutrient uptake and are thus limited in the quantity and diversity of nutrients they are able to utilize. This can be integrated into the model by constraining the structure of the nutrient uptake matrix $C_{i \\alpha}$. While there are a variety of ways to accomplish this, the original constraint takes into account non-randomly distributed consumers sharing similar consumption coefficients between taxonomically related groups. \n"
   ]
  },
  {
   "cell_type": "markdown",
   "id": "a0c10f1c-bf92-41a6-aeb9-60e14bb1c04d",
   "metadata": {},
   "source": [
    "To begin with, family-level consumption parameters are deterimined by two parameters $\\theta_{\\alpha, f}$, the concentration parameter of resource $\\alpha$ belonging to family $f$, and $\\Omega_{f}$, the magnitude of all concentration parameters such that $ \\Omega_{f} = \\sum \\limits _{\\alpha} \\theta_{\\alpha, f} $."
   ]
  },
  {
   "cell_type": "code",
   "execution_count": null,
   "id": "f08b9334-4acc-486c-bae9-c6aa7db51941",
   "metadata": {},
   "outputs": [],
   "source": []
  }
 ],
 "metadata": {
  "@webio": {
   "lastCommId": "0328ea7f-9320-49a1-a342-eb55311ee939",
   "lastKernelId": "d4af7036-941f-4f00-ac49-f6829bbca3ff"
  },
  "kernelspec": {
   "display_name": "Julia 1.7.2",
   "language": "julia",
   "name": "julia-1.7"
  },
  "language_info": {
   "file_extension": ".jl",
   "mimetype": "application/julia",
   "name": "julia",
   "version": "1.7.2"
  }
 },
 "nbformat": 4,
 "nbformat_minor": 5
}
