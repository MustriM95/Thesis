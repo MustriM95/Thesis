{
 "cells": [
  {
   "cell_type": "markdown",
   "id": "265ea707-11cc-449e-ae8f-2da75d621599",
   "metadata": {},
   "source": [
    "$\\hat{Y} = \\hat{\\beta}_{0} $"
   ]
  },
  {
   "cell_type": "markdown",
   "id": "605af7ea-d754-4d10-8f34-4b99c153767a",
   "metadata": {},
   "source": [
    "# Microbial Consumer Resource Model "
   ]
  },
  {
   "cell_type": "markdown",
   "id": "1104815c-d88f-45c0-8592-cdaaa3e553da",
   "metadata": {},
   "source": [
    "$ \\frac{1}{N_{i}} \\frac{dN_{i}}{dt} =  $"
   ]
  },
  {
   "cell_type": "code",
   "execution_count": null,
   "id": "91804b97-e72d-4525-b259-0533786ca536",
   "metadata": {},
   "outputs": [],
   "source": []
  }
 ],
 "metadata": {
  "@webio": {
   "lastCommId": "0328ea7f-9320-49a1-a342-eb55311ee939",
   "lastKernelId": "d4af7036-941f-4f00-ac49-f6829bbca3ff"
  },
  "kernelspec": {
   "display_name": "Julia 1.7.2",
   "language": "julia",
   "name": "julia-1.7"
  },
  "language_info": {
   "file_extension": ".jl",
   "mimetype": "application/julia",
   "name": "julia",
   "version": "1.7.2"
  }
 },
 "nbformat": 4,
 "nbformat_minor": 5
}
