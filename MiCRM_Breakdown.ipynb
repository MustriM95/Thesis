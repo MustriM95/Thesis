{
 "cells": [
  {
   "cell_type": "markdown",
   "id": "265ea707-11cc-449e-ae8f-2da75d621599",
   "metadata": {},
   "source": []
  },
  {
   "cell_type": "markdown",
   "id": "605af7ea-d754-4d10-8f34-4b99c153767a",
   "metadata": {},
   "source": [
    "# Microbial Consumer Resource Model "
   ]
  },
  {
   "cell_type": "markdown",
   "id": "1104815c-d88f-45c0-8592-cdaaa3e553da",
   "metadata": {},
   "source": [
    "$ \\Large \\frac{1}{N_{i}} \\frac{dN_{i}}{dt} = \\sum \\limits _{\\alpha = 1} ^{M} \\Delta w_{i \\alpha} C_{i\\alpha} R_{\\alpha} - m_{i} $"
   ]
  },
  {
   "cell_type": "markdown",
   "id": "18bdffe2-8da3-4c37-8d01-3afe24d795a6",
   "metadata": {},
   "source": [
    "$ \\Large \\frac{dR_{\\beta}}{dt} = S_{\\beta} - \\sum \\limits _{i = 1} ^{S} C_{i\\beta} R_{\\beta} N_{i} + \\sum \\limits _{\\alpha = 1} ^{M} \\sum \\limits _{i=1} ^{S}\n",
    "D_{\\beta \\alpha}^{i}C_{i \\alpha} N_{i} R_{\\alpha}  $"
   ]
  },
  {
   "cell_type": "markdown",
   "id": "9b62efbb-f905-4a7c-b7e3-08132e0b34b0",
   "metadata": {},
   "source": [
    "| Symbol | Definition | Units |\n",
    "| :- | :- | :-: |\n",
    "| $N_{i}$ | Biomass of $i^{th}$ consumer | mass |\n",
    "| $ R_{\\alpha} $ | Concentration of the $\\alpha^{th}$ resource | mass/volume |\n",
    "| $ \\Delta w_{i \\alpha} $ | Biomass produced by species $i$ given uptake of a volume of resource $\\alpha$ after metabolite leakage | mass/mass/volume |\n",
    "| $ C_{i \\alpha} $ | Uptake rate of species $i$ per unit concentration of resource $\\alpha$ | 1/mass \\*time |\n",
    "| $ m_{i} $ |  Maitenance biomass utilization of $i^{th}$ species | 1/time |\n",
    "| $ S_{\\beta} $ | Supply of resource $\\beta$ | mass/volume \\*time |\n",
    "| $ D_{\\alpha \\beta }^{i} $ | Stoichiometric matrix, number of molecules of resource $\\beta$ secreted by species $i$ through the consumption of resource $\\alpha$ | unitless |"
   ]
  },
  {
   "cell_type": "markdown",
   "id": "0a8d7ed0-29f1-46ed-b78a-df6b56e42559",
   "metadata": {},
   "source": [
    "Additionally $\\Delta w_{i\\alpha} = w_{\\alpha} - \\sum \\limits _{\\beta = 1} ^{M} D_{\\beta \\alpha}^{i}w_{\\beta} $.\n",
    "Where $w_{\\alpha}$ is the ATP yield of resource $\\alpha$ and $\\sum \\limits _{\\beta = 1} ^{M} D_{\\beta \\alpha}^{i}w_{\\beta}$ is the total ATP yield of all its metabolic byproducts."
   ]
  },
  {
   "cell_type": "markdown",
   "id": "39770626-501a-4f77-84c6-40b590580243",
   "metadata": {},
   "source": [
    "# Constraints"
   ]
  },
  {
   "cell_type": "markdown",
   "id": "078c35ca-a9df-4f15-954a-595a50d27585",
   "metadata": {},
   "source": [
    "## Energy conservation\n",
    "To guarantee that no energy/mass is created through the leaking of metabolites we impose a simple constraint on $\\Delta w_{i \\alpha} $. Stated explicitely, the maximum ATP yeild of resource $\\alpha$ must exceed the total ATP yield of all metabolic byproducts. \n",
    "<br>\n",
    "$ w_{\\alpha} > \\sum \\limits _{\\beta = 1} ^{M} D_{\\beta \\alpha}^{i} w_{\\beta} $\n"
   ]
  },
  {
   "cell_type": "markdown",
   "id": "d07b7bca-4885-4eb9-8a6b-7fc6693149f3",
   "metadata": {
    "tags": []
   },
   "source": [
    "## Metabolic tradeoffs\n",
    "From a biological standpoint, microbes can only allocate a finite amount of cellular resources to nutrient uptake and are thus limited in the quantity and diversity of nutrients they are able to utilize. This can be integrated into the model by constraining the structure of the nutrient uptake matrix $C_{i \\alpha}$. While there are a variety of ways to accomplish this, the original constraint takes into account non-randomly distributed consumers sharing similar consumption coefficients between taxonomically related groups. \n"
   ]
  },
  {
   "cell_type": "markdown",
   "id": "a0c10f1c-bf92-41a6-aeb9-60e14bb1c04d",
   "metadata": {
    "tags": []
   },
   "source": [
    "### Concentration parameters\n",
    "To begin with, family-level consumption parameters are deterimined by two quantities: $\\theta_{\\alpha}^{f}$, the concentration parameter of resource $\\alpha$ belonging to family $f$, and $\\Omega_{f}$, the magnitude of all concentration parameters such that $ \\Omega_{f} = \\sum \\limits _{\\alpha} \\theta_{\\alpha}^{f} $.\n",
    "<br> \n",
    "For a given family $f$ we wish to construct a group of consumers with a tunable degree of preference for a resource $\\alpha = f$. We first define $\\theta^{f\\prime} = \\{ \\theta_{1}^{f \\prime}, \\dots , \\theta_{M}^{f \\prime} \\} $ such that for $\\alpha = f$, $\\theta_{\\alpha = f}^{f \\prime}$ is drawn from a Gaussian distribution.\n",
    "<br><br>\n",
    "$\\large \\theta_{\\alpha = f}^{f \\prime} \\sim {\\sf Norm}(\\mu, \\sigma) $\n",
    "<br><br>\n",
    "And all of the other concentration parameters $\\theta_{\\alpha \\neq f}^{f \\prime}$ are drawn from a uniform distribution.\n",
    "<br><br>\n",
    "$\\large \\theta_{\\alpha \\neq f}^{f \\prime} \\sim {\\sf Uniform}(0, 1) $\n",
    "<br><br>\n",
    "The concentration parameters are then normalized according to the following relationship:\n",
    "<br><br>\n",
    "$\\large\\theta_{\\alpha \\neq f}^{f} = (1 - \\theta_{\\alpha = f}^{f})\\frac{\\theta_{\\alpha \\neq f}^{f \\prime}}{\\sum \\limits _{\\gamma \\neq f} \\theta_{\\gamma}^{f}} $\n",
    "<br>\n",
    "Where $\\theta_{\\alpha = f}^{f}$ can arbitrarily be chosen as $\\theta_{\\alpha = f}^{f} = \\theta_{\\alpha = f}^{f \\prime}$. Having defined the structure of $\\theta_{\\alpha}^{f}$, we may now use the concentration parameters to build the consumer preference matrix."
   ]
  },
  {
   "cell_type": "markdown",
   "id": "a738b633-953f-4a65-9438-831b68bc8c98",
   "metadata": {},
   "source": [
    "### Drawing consumer uptakes from a dirichlet distribution\n",
    "Drawing $C_{i \\alpha}$ from a dirichlet distribution mimics the scenario where, given a number of available resources, a certain species $i$, belonging to a family $f$, has non-random probability of being able to break down a resource $\\alpha$. In this case the probability density function is confined within the M-dimensional space defined by the (M-1)-simplex (M being the number of available resources), each vertex representing the ability to break down a specific resource. Using the family concentration parameters $\\theta_{\\alpha}^{f}$ and $\\Omega_{f}$ we can define relative uptake coefficients such that:\n",
    "<br><br>\n",
    "$\\large \\{C_{i1}^{\\prime}, \\dots, C_{iM}^{\\prime} \\} \\sim {\\sf Dirichlet}(\\Omega_{f} \\theta_{1}^{f}, \\dots, \\Omega_{f} \\theta_{M}^{f}) $\n",
    "<br><br>\n",
    "Here $\\Omega_{f}$ and $\\theta_{\\alpha}^{f}$ serve two different purposes. The magnitude of concentration parameters, $\\Omega_{f}$ sets how similar or how variable species in a family are in their resource preferences, high values of $\\Omega_{f}$ will concentrate the probability distribution function around a center of mass (family members have very similar resource preferences), whereas small values of $\\Omega_{f}$ will distribute the probabilities more evenly (high variability between family members). The values of $\\theta_{\\alpha}^{f}$, on the other hand, determine the skweness of the probability, high values of $\\theta_{\\alpha}^{f}$ mean that the pdf is more clustered near the vertex corresponding to the resource $\\alpha$ while lower values mean that the pdf is clustered away from that vertex.\n",
    "<br>\n",
    "Each set of $C_{i \\alpha}^{\\prime}$ sampled from a dirichlet sum up to unity per consumer species, $\\sum \\limits _{\\alpha = 1}^{M} C_{i \\alpha}^{\\prime} = 1$, symbolising the finite resources consumers can allocate to resource uptake. However, this constraint can be relaxed by assuming that there is variability in the magnitude of resources cells can allocate to uptake.\n",
    "<br><br>\n",
    "$\\large C_{i \\alpha} = T_{i}C_{i \\alpha}^{\\prime}$\n",
    "<br> <br>\n",
    "Where $T_{i}$ is a random coefficient drawn from a gaussian distribution, $T_{i} \\sim {\\sf Norm}(\\mu_{T}, \\sigma_{T}^{2})$."
   ]
  },
  {
   "cell_type": "markdown",
   "id": "ab8636a9-17f6-4635-a2b4-9b4f95c3a774",
   "metadata": {},
   "source": [
    "# The stoichiometric matrix\n",
    "The structure of the stoichiometric matrix is primarily restricted by energy conservation, and may be structured in a variety of ways so long as this constraint is satisfied. \n"
   ]
  },
  {
   "cell_type": "markdown",
   "id": "1b3f5c12-b86e-4e29-8b01-3a2cc761c6f8",
   "metadata": {},
   "source": [
    "# The effective Lotka-Volterra model\n",
    "Assuming a regime where resources achieve equilibrium much faster than consumers allows us to express the MiCRM dynamical equations solely in terms of consumers and their interactions. Furthermore, we can reconfigure the terms in a way which gives us an equivalent, generalized Lotka-Volterra model.\n",
    "<br><br>\n",
    "$\\large \\frac{dN_{i}}{dt} = \\frac{r_{i}}{K_{i}} N_{i} \\left[ K_{i} - N_{i} - \\sum \\limits _{j \\neq i} ^{S} \\alpha_{ij}N_{j}\\right] $"
   ]
  },
  {
   "cell_type": "code",
   "execution_count": null,
   "id": "4d80e6a6-47b4-4731-996a-8282c0c45a86",
   "metadata": {},
   "outputs": [],
   "source": []
  }
 ],
 "metadata": {
  "@webio": {
   "lastCommId": "0328ea7f-9320-49a1-a342-eb55311ee939",
   "lastKernelId": "d4af7036-941f-4f00-ac49-f6829bbca3ff"
  },
  "kernelspec": {
   "display_name": "Julia 1.7.2",
   "language": "julia",
   "name": "julia-1.7"
  },
  "language_info": {
   "file_extension": ".jl",
   "mimetype": "application/julia",
   "name": "julia",
   "version": "1.7.2"
  }
 },
 "nbformat": 4,
 "nbformat_minor": 5
}
