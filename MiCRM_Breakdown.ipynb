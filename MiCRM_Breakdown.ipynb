{
 "cells": [
  {
   "cell_type": "code",
   "execution_count": 2,
   "id": "7ffe805d-e4df-4f67-930f-5cebf61d6b05",
   "metadata": {},
   "outputs": [
    {
     "data": {
      "application/javascript": [
       "MathJax.Hub.Config({\n",
       "    TeX: { equationNumbers: { autoNumber: \"AMS\" } }\n",
       "});\n"
      ],
      "text/plain": [
       "<IPython.core.display.Javascript object>"
      ]
     },
     "metadata": {},
     "output_type": "display_data"
    }
   ],
   "source": [
    "%%javascript\n",
    "MathJax.Hub.Config({\n",
    "    TeX: { equationNumbers: { autoNumber: \"AMS\" } }\n",
    "});"
   ]
  },
  {
   "cell_type": "code",
   "execution_count": 3,
   "id": "5cdf707d-c83a-4151-8361-0f656999968a",
   "metadata": {},
   "outputs": [
    {
     "data": {
      "application/javascript": [
       "MathJax.Hub.Queue(\n",
       "  [\"resetEquationNumbers\", MathJax.InputJax.TeX],\n",
       "  [\"PreProcess\", MathJax.Hub],\n",
       "  [\"Reprocess\", MathJax.Hub]\n",
       ");\n"
      ],
      "text/plain": [
       "<IPython.core.display.Javascript object>"
      ]
     },
     "metadata": {},
     "output_type": "display_data"
    }
   ],
   "source": [
    "%%javascript\n",
    "MathJax.Hub.Queue(\n",
    "  [\"resetEquationNumbers\", MathJax.InputJax.TeX],\n",
    "  [\"PreProcess\", MathJax.Hub],\n",
    "  [\"Reprocess\", MathJax.Hub]\n",
    ");"
   ]
  },
  {
   "cell_type": "markdown",
   "id": "605af7ea-d754-4d10-8f34-4b99c153767a",
   "metadata": {},
   "source": [
    "# Microbial Consumer Resource Model "
   ]
  },
  {
   "cell_type": "markdown",
   "id": "1104815c-d88f-45c0-8592-cdaaa3e553da",
   "metadata": {},
   "source": [
    "\\begin{equation}\n",
    "\\Large \\frac{1}{C_{i}} \\frac{dC_{i}}{dt} = \\sum \\limits _{\\alpha = 1} ^{M} (1- \\sum \\limits _{\\beta = 1} ^{M} l_{\\alpha \\beta}) u_{i\\alpha} R_{\\alpha} - m_{i} \n",
    "\\end{equation}"
   ]
  },
  {
   "cell_type": "markdown",
   "id": "18bdffe2-8da3-4c37-8d01-3afe24d795a6",
   "metadata": {},
   "source": [
    "\\begin{equation}\n",
    "\\Large \\frac{dR_{\\beta}}{dt} = \\rho_{\\beta} - \\sum \\limits _{i = 1} ^{N} u_{i\\beta} R_{\\beta} C_{i} + \\sum \\limits _{\\alpha = 1} ^{M} \\sum \\limits _{i=1} ^{N} l_{\\alpha \\beta} u_{i \\alpha} C_{i} R_{\\alpha} \n",
    "\\end{equation}"
   ]
  },
  {
   "cell_type": "markdown",
   "id": "9b62efbb-f905-4a7c-b7e3-08132e0b34b0",
   "metadata": {},
   "source": [
    "| Symbol | Definition | Units |\n",
    "| :- | :- | :-: |\n",
    "| $C_{i}$ | Biomass of $i^{th}$ consumer | mass |\n",
    "| $ R_{\\alpha} $ | Concentration of the $\\alpha^{th}$ resource | mass/volume |\n",
    "| $ u_{i \\alpha} $ | Uptake rate of species $i$ per unit concentration of resource $\\alpha$ | 1/mass \\*time |\n",
    "| $ m_{i} $ |  Maitenance biomass utilization of $i^{th}$ species | 1/time |\n",
    "| $ \\rho_{\\beta} $ | Supply of resource $\\beta$ | mass/volume \\*time |\n",
    "| $ l_{\\alpha \\beta } $ | Stoichiometric matrix, number of molecules of resource $\\beta$ secreted by species $i$ through the consumption of resource $\\alpha$ | unitless |"
   ]
  },
  {
   "cell_type": "markdown",
   "id": "39770626-501a-4f77-84c6-40b590580243",
   "metadata": {},
   "source": [
    "# Constraints"
   ]
  },
  {
   "cell_type": "markdown",
   "id": "078c35ca-a9df-4f15-954a-595a50d27585",
   "metadata": {},
   "source": [
    "## Energy conservation\n",
    "To guarantee that no energy/mass is created through the leaking of metabolites we impose a simple constraint on $l_{\\alpha \\beta} $. Stated explicitely, the row-wise sums of the leakage matrix cannot exceed 1.\n",
    "<br>\n",
    "$ 1 > \\sum \\limits _{\\beta = 1} ^{M} l_{\\alpha \\beta}  $\n"
   ]
  },
  {
   "cell_type": "markdown",
   "id": "d07b7bca-4885-4eb9-8a6b-7fc6693149f3",
   "metadata": {
    "tags": []
   },
   "source": [
    "## Metabolic tradeoffs\n",
    "From a biological standpoint, microbes can only allocate a finite amount of cellular resources to nutrient uptake and are thus limited in the quantity and diversity of nutrients they are able to utilize. This can be integrated into the model by constraining the structure of the nutrient uptake matrix $u_{i \\alpha}$, so that individual consumers can only distribute a finite amount of uptake capacities across all possible nutrients. This can be accomplished in several ways, however, the Dirichlet distribution offers a natural way simulating a finite set of probabilities spread across multiple options. To construct the distributions from which the uptake coeffeicients will be drawn we can define three biologically relevant parameters: $\\theta_{\\alpha}^{i}$ as the concentration parameter of consumer $i$ for each resource $\\alpha$, $\\Omega_{i}$ as the specialisation parameter and $T_{i}$ as magnitude of cellular resources. Here $\\theta_{\\alpha}^{i}$ defines the relative preference a consumer $i$ has for a resource $\\alpha$, $\\Omega_{i}$ represents the degree of specialisation a consumer has across the space of possible resources, and $T_{i}$ is the total amount of resources a consumer can use for nutrient uptake."
   ]
  },
  {
   "cell_type": "markdown",
   "id": "a738b633-953f-4a65-9438-831b68bc8c98",
   "metadata": {},
   "source": [
    "\n",
    "\n",
    "$\\large \\{u_{i1}^{\\prime}, \\dots, u_{iM}^{\\prime} \\} \\sim {\\sf Dirichlet}(\\theta_{1}^{i} \\Omega_{i}, \\dots, \\theta_{M}^{i} \\Omega_{i}) $\n",
    "<br>\n",
    "\n",
    "The structure of the uptake matrix is then completely determined by these three parameters and we can heavily influence it by choosing how they are defined. Assuming a scenario where, for a given consumer, the relative probability of being able to uptake a resource $\\alpha$ is the same for every resource, we can sample $\\theta_{\\alpha}^{i}$ from a uniform distribution such that:\n",
    "<br> <br>\n",
    "$\\large \\theta_{\\alpha}^{i} \\sim {\\sf Uniform}(0, 1)$\n",
    "<br>\n",
    "\n",
    "For $\\Omega_{i}$ we must consider that it is unbounded in the positive reals, where $\\Omega_{i} < 1$ corresponds to consumers that are more likely to consume one resource much better than all others (specialists), $\\Omega_{i} = \\mathcal{O}(1)$ is the trivial case, where all possible combinations of uptake coefficients are equally likely, and towards the limit $\\Omega_{i} \\to \\infty$, where consumers are more likely to uptake a range of different nutrients (generalists).\n",
    "\n",
    "Each set of $u_{i \\alpha}^{\\prime}$ sampled from a beta distribution sum up to unity per consumer species, $\\sum \\limits _{\\alpha = 1}^{M} u_{i \\alpha}^{\\prime} = 1$, symbolising the finite resources consumers can allocate to resource uptake. However, this constraint can be relaxed by assuming that there is variability in the magnitude of resources cells can allocate to uptake.\n",
    "<br><br>\n",
    "$\\large u_{i \\alpha} = T_{i}u_{i \\alpha}^{\\prime}$\n",
    "<br> <br>\n",
    "Where $T_{i}$ is a random coefficient drawn from a gaussian distribution, $T_{i} \\sim {\\sf Norm}(\\mu_{T}, \\sigma_{T}^{2})$."
   ]
  },
  {
   "cell_type": "markdown",
   "id": "ab8636a9-17f6-4635-a2b4-9b4f95c3a774",
   "metadata": {},
   "source": [
    "# The stoichiometric matrix\n",
    "The structure of the stoichiometric matrix is primarily restricted by energy conservation, and may be structured in a variety of ways so long as this constraint is satisfied. \n",
    "\n"
   ]
  },
  {
   "cell_type": "markdown",
   "id": "1b3f5c12-b86e-4e29-8b01-3a2cc761c6f8",
   "metadata": {},
   "source": [
    "# The effective Lotka-Volterra model\n",
    "Assuming a regime where resources achieve equilibrium much faster than consumers, allows us to express the MiCRM dynamical equations solely in terms of the consumers and their interactions. Furthermore, we can reconfigure the terms in a way which gives us an equivalent, generalized Lotka-Volterra model.\n",
    "\\begin{equation}\n",
    "\\large \\frac{dC_{i}}{dt} = \\frac{r_{i}}{K_{i}} C_{i} \\left[ K_{i} - C_{i} - \\sum \\limits _{j \\neq i} ^{N} \\alpha_{ij}C_{j}\\right] \n",
    "\\label{eq:LV} \n",
    "\\end{equation}\n",
    "Fast resource equilibration implies that $\\frac{dR_{\\beta}}{dt} = 0$, giving us the following relationship:\n",
    "\\begin{equation}\n",
    "\\large \\rho_{\\beta} - \\sum \\limits _{i=1} ^{N} u_{i \\beta}R_{\\beta}C_{i} + \\sum \\limits _{\\alpha = 1} ^{M} l_{\\alpha \\beta}^{i}u_{i \\alpha}C_{i}R_{\\alpha} = 0\n",
    "\\label{eq:FR_eq}\n",
    "\\end{equation}\n",
    "Solving for $R_{\\beta} = \\overline{R}_{\\beta}$, we can plug it back into the equation for consumers and perform a Taylor expansion of $\\overline{R}_{\\beta}$ around the set of equilibrium populations $C_{j} = \\overline{C}_{j}$.\n",
    "<br><br>\n",
    "$\\large \\frac{1}{C_{i}}\\frac{dC_{i}}{dt} = \\sum \\limits _{\\alpha = 1} ^{M} (1 - \\sum \\limits _{\\beta = 1} ^{M} l_{\\alpha \\beta} ) u_{i \\alpha}\\overline{R}_{\\alpha}(\\{C_{j}\\}) - m_{i} $\n",
    "<br><br>\n",
    "Expanding the Taylor series of $\\overline{R}_{\\beta}(\\{C_{j}\\})$ around equilibrium we have:\n",
    "<br><br>\n",
    "$ \\overline{R}_{\\beta}(\\{C_{j}\\}) = \\overline{R}_{\\beta} + \\sum \\limits _{j = 1} ^{N} \\frac{\\partial \\overline{R}_{\\beta}}{\\partial C_{j}} (C_{j} - \\overline{C}_{j}) + \\mathcal{O}\\left( (C_{j} - \\overline{C}_{j} )^{2} \\right)  $\n",
    "<br><br>\n",
    "Our final expression for consumer dynamics is then\n",
    "<br><br>\n",
    "$\\large \\frac{1}{C_{i}}\\frac{dC_{i}}{dt} = \\sum \\limits _{\\alpha = 1} ^{M} (1 - \\sum \\limits _{\\beta = 1} ^{M} l_{\\alpha \\beta}) u_{i \\alpha}\\left( \\overline{R}_{\\alpha} + \\sum \\limits _{j = 1} ^{N} \\frac{\\partial \\overline{R}_{\\alpha}}{\\partial C_{j}} (C_{j} - \\overline{C}_{j}) + \\mathcal{O}\\left( (C_{j} - \\overline{C}_{j} )^{2} \\right) \\right)- m_{i}$\n",
    "<br><br>\n",
    "Here $\\frac{\\partial \\overline{R}_{\\beta}}{\\partial C_{j}}$ can be obtained through direct differentiation of $\\frac{d R_{\\beta}}{dt}$, yielding:\n"
   ]
  },
  {
   "cell_type": "markdown",
   "id": "bfed9939-c2e5-4178-8c7e-83e7da7b7f4f",
   "metadata": {},
   "source": [
    "$ \\large \\left( \\sum \\limits_{\\alpha = 1} ^{M} \\frac{ \\partial \\overline{R}_{\\alpha} }{\\partial C_{i}} \\frac{\\partial \\rho_{\\beta}}{\\partial \\overline{R}_{\\alpha}} \\right) - \\sum \\limits _{i = 1} ^{N} u_{i \\beta} \\left( C_{i} \\frac{\\partial \\overline{R}_{\\beta}}{\\partial C_{j}} + \\delta_{ij} \\overline{R}_{\\beta} \\right) + \\sum \\limits _{\\alpha= 1} ^{M} \\sum \\limits _{i = 1} ^{N} l_{\\alpha \\beta}^{i}u_{i \\alpha} \\left( C_{i} \\frac{\\partial \\overline{R}_{\\alpha}}{\\partial C_{j}} + \\delta_{ij} \\overline{R}_{\\alpha} \\right) = 0  $\n",
    "<br><br> \n",
    "Solving the equation for the $\\frac{\\partial \\overline{R}_{\\beta}}{\\partial C_{j}}$ we obtain an expression in the form:\n",
    "\n",
    "\\begin{equation*}\n",
    "\\large \\sum \\limits _{\\alpha = 1} ^{M} A_{\\beta \\alpha} \\frac{ \\partial \\overline{R}_{\\alpha} }{\\partial C_{j}} = \\sum \\limits _{\\alpha = 1} ^{M} \\delta_{\\alpha \\beta} u_{j \\alpha} \\overline{R}_{\\alpha} - l_{\\alpha \\beta} u_{j \\alpha} \\overline{R}_{\\alpha}  \n",
    "\\label{eq:partial_defs}\n",
    "\\end{equation*}\n",
    "\n",
    "With $A_{\\alpha \\beta} = \\frac{\\partial \\rho_{\\beta}}{\\partial \\overline{R}_{\\alpha}} + \\sum \\limits _{i = 1} ^{N} l_{\\alpha \\beta}^{i}u_{i\\alpha}C_{i} - u_{i \\alpha} C_{i} \\delta_{\\alpha \\beta}$."
   ]
  },
  {
   "cell_type": "markdown",
   "id": "6acbea2a-baa1-4f29-9981-8e7cb194253d",
   "metadata": {},
   "source": [
    "Inverting $A_{\\alpha \\beta}$ (assuming it is an invertible matrix), we are able to obtain the partial derivatives explicitely.\n",
    "<br><br>\n",
    "\\begin{equation}\n",
    "\\large \\frac{\\partial \\overline{R}_{\\alpha}}{\\partial C_{j}} = \\sum \\limits _{\\beta = 1} ^{M} \\sum \\limits _{\\gamma = 1} ^{M} (A^{-1})_{\\alpha \\beta} (\\delta_{\\beta \\gamma} u_{j \\beta} - l_{\\beta \\gamma} u_{j \\beta}) \\overline{R}_{\\gamma}  \n",
    "\\end{equation}"
   ]
  },
  {
   "cell_type": "markdown",
   "id": "df3895e2-8ced-4b20-89dc-e147ed2bb255",
   "metadata": {},
   "source": [
    "Finally, to obtain the effective Lotka-Volterra system, we must group terms and find the equivalent characteristic growth rates $r_{i}$, carrying capacities $K_{i}$, and interaction coefficients $\\alpha_{ij}$. After some algebra we have:\n",
    "\n",
    "\n",
    "\\begin{align}\n",
    "\\alpha_{ij} &= \\frac{\\sum \\limits _{\\alpha = 1} ^{M} u_{i \\alpha}(1 - l_{\\alpha})\\frac{\\partial \\overline{R}_{\\alpha}}{\\partial C_{j}}}{\\sum \\limits _{\\beta = 1} ^{M} u_{i \\beta}(1 - l_{\\beta})\\frac{\\partial \\overline{R}_{\\beta}}{\\partial C_{i}}} \\tag{5}\n",
    "\\end{align}\n",
    "$\\dots$\n",
    "\\begin{equation*}\n",
    "K_{i} = \\frac{\\sum \\limits _{\\alpha = 1} ^{M} u_{i \\alpha}(1 - l_{\\alpha}) \\overline{R}_{\\alpha}}{\\sum \\limits _{\\beta = 1} ^{M} u_{i \\beta}(1 - l_{\\beta})\\frac{\\partial \\overline{R}_{\\beta}}{\\partial C_{i}}} -\n",
    "\\sum \\limits _{j = 1} ^{N} \\alpha_{ij}\\overline{C}_{j} -\n",
    "\\frac{m_{i}}{\\sum \\limits _{\\beta = 1} ^{M} u_{i \\beta}(1 - l_{\\beta})\\frac{\\partial \\overline{R}_{\\beta}}{\\partial C_{i}}}\n",
    "\\end{equation*}\n",
    "$\\dots$\n",
    "\\begin{equation*}\n",
    "r_{i} = K_{i} \\sum \\limits _{\\alpha = 1} ^{M} u_{i \\alpha} (1- l_{\\alpha}) \\frac{\\partial \\overline{R}_{\\alpha}}{\\partial C_{i}}\n",
    "\\end{equation*}"
   ]
  },
  {
   "cell_type": "code",
   "execution_count": null,
   "id": "dab82a56-048f-4400-9b49-6b60739da3b0",
   "metadata": {},
   "outputs": [],
   "source": []
  }
 ],
 "metadata": {
  "@webio": {
   "lastCommId": "0328ea7f-9320-49a1-a342-eb55311ee939",
   "lastKernelId": "d4af7036-941f-4f00-ac49-f6829bbca3ff"
  },
  "kernelspec": {
   "display_name": "Python 3 (ipykernel)",
   "language": "python",
   "name": "python3"
  },
  "language_info": {
   "codemirror_mode": {
    "name": "ipython",
    "version": 3
   },
   "file_extension": ".py",
   "mimetype": "text/x-python",
   "name": "python",
   "nbconvert_exporter": "python",
   "pygments_lexer": "ipython3",
   "version": "3.10.4"
  }
 },
 "nbformat": 4,
 "nbformat_minor": 5
}
