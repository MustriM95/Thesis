{
 "cells": [
  {
   "cell_type": "code",
   "execution_count": 1,
   "id": "7ffe805d-e4df-4f67-930f-5cebf61d6b05",
   "metadata": {},
   "outputs": [
    {
     "data": {
      "application/javascript": [
       "MathJax.Hub.Config({\n",
       "    TeX: { equationNumbers: { autoNumber: \"AMS\" } }\n",
       "});\n"
      ],
      "text/plain": [
       "<IPython.core.display.Javascript object>"
      ]
     },
     "metadata": {},
     "output_type": "display_data"
    }
   ],
   "source": [
    "%%javascript\n",
    "MathJax.Hub.Config({\n",
    "    TeX: { equationNumbers: { autoNumber: \"AMS\" } }\n",
    "});"
   ]
  },
  {
   "cell_type": "code",
   "execution_count": 2,
   "id": "eec8316d-036a-40a4-ada2-1183e6836280",
   "metadata": {},
   "outputs": [
    {
     "data": {
      "application/javascript": [
       "MathJax.Hub.Config({\n",
       "  displayAlign: \"left\"\n",
       "})\n"
      ],
      "text/plain": [
       "<IPython.core.display.Javascript object>"
      ]
     },
     "metadata": {},
     "output_type": "display_data"
    }
   ],
   "source": [
    "%%javascript\n",
    "MathJax.Hub.Config({\n",
    "  displayAlign: \"left\"\n",
    "})"
   ]
  },
  {
   "cell_type": "code",
   "execution_count": 4,
   "id": "5cdf707d-c83a-4151-8361-0f656999968a",
   "metadata": {},
   "outputs": [
    {
     "data": {
      "application/javascript": [
       "MathJax.Hub.Queue(\n",
       "  [\"resetEquationNumbers\", MathJax.InputJax.TeX],\n",
       "  [\"PreProcess\", MathJax.Hub],\n",
       "  [\"Reprocess\", MathJax.Hub]\n",
       ");\n"
      ],
      "text/plain": [
       "<IPython.core.display.Javascript object>"
      ]
     },
     "metadata": {},
     "output_type": "display_data"
    }
   ],
   "source": [
    "%%javascript\n",
    "MathJax.Hub.Queue(\n",
    "  [\"resetEquationNumbers\", MathJax.InputJax.TeX],\n",
    "  [\"PreProcess\", MathJax.Hub],\n",
    "  [\"Reprocess\", MathJax.Hub]\n",
    ");"
   ]
  },
  {
   "cell_type": "markdown",
   "id": "605af7ea-d754-4d10-8f34-4b99c153767a",
   "metadata": {},
   "source": [
    "# I Microbial Consumer Resource Model "
   ]
  },
  {
   "cell_type": "markdown",
   "id": "1104815c-d88f-45c0-8592-cdaaa3e553da",
   "metadata": {},
   "source": [
    "\\begin{equation}\n",
    "\\Large \\frac{1}{C_{i}} \\frac{dC_{i}}{dt} = \\sum \\limits _{\\alpha = 1} ^{M} (1- \\sum \\limits _{\\beta = 1} ^{M} l_{\\alpha \\beta}^{i}) u_{i\\alpha} R_{\\alpha} - m_{i} \\label{eq:MC}\n",
    "\\end{equation}"
   ]
  },
  {
   "cell_type": "markdown",
   "id": "18bdffe2-8da3-4c37-8d01-3afe24d795a6",
   "metadata": {},
   "source": [
    "\\begin{equation}\n",
    "\\Large \\frac{dR_{\\beta}}{dt} = \\rho_{\\beta} - \\sum \\limits _{i = 1} ^{N} u_{i\\beta} R_{\\beta} C_{i} + \\sum \\limits _{\\alpha = 1} ^{M} \\sum \\limits _{i=1} ^{N} l_{\\alpha \\beta}^{i} u_{i \\alpha} C_{i} R_{\\alpha} \n",
    "\\label{eq:MR}\n",
    "\\end{equation}"
   ]
  },
  {
   "cell_type": "markdown",
   "id": "9b62efbb-f905-4a7c-b7e3-08132e0b34b0",
   "metadata": {},
   "source": [
    "| Symbol | Definition | Units |\n",
    "| :- | :- | :-: |\n",
    "| $C_{i}$ | Biomass of $i^{th}$ consumer | mass |\n",
    "| $ R_{\\alpha} $ | Concentration of the $\\alpha^{th}$ resource | mass/volume |\n",
    "| $ u_{i \\alpha} $ | Uptake rate of species $i$ per unit concentration of resource $\\alpha$ | 1/mass \\*time |\n",
    "| $ m_{i} $ |  Maitenance biomass utilization of $i^{th}$ species | 1/time |\n",
    "| $ \\rho_{\\beta} $ | Supply of resource $\\beta$ | mass/volume \\*time |\n",
    "| $ l_{\\alpha \\beta }^{i} $ | Stoichiometric matrix, number of molecules of resource $\\beta$ secreted by species $i$ through the consumption of resource $\\alpha$ | unitless |\n",
    "| $ l_{\\alpha}^{i} $ | Row sum of stoichiometric matrix (total metabolites leaked by consumer $i$ from resource $\\alpha$), $l_{\\alpha}^{i} = \\sum \\limits _{\\beta = 1} ^{M} l_{\\alpha \\beta}^{i} $ | unitless |"
   ]
  },
  {
   "cell_type": "markdown",
   "id": "39770626-501a-4f77-84c6-40b590580243",
   "metadata": {},
   "source": [
    "# Constraints"
   ]
  },
  {
   "cell_type": "markdown",
   "id": "078c35ca-a9df-4f15-954a-595a50d27585",
   "metadata": {},
   "source": [
    "## Energy conservation\n",
    "To guarantee that no energy/mass is created through the leaking of metabolites we impose a simple constraint on $l_{\\alpha \\beta} $. Stated explicitely, the row-wise sums of the leakage matrix cannot exceed 1.\n",
    "<br>\n",
    "$$\n",
    "1 > \\sum \\limits _{\\beta = 1} ^{M} l_{\\alpha \\beta}^{i} \n",
    "$$\n"
   ]
  },
  {
   "cell_type": "markdown",
   "id": "d07b7bca-4885-4eb9-8a6b-7fc6693149f3",
   "metadata": {
    "tags": []
   },
   "source": [
    "## Metabolic tradeoffs\n",
    "From a biological standpoint, microbes can only allocate a finite amount of cellular resources to nutrient uptake and are thus limited in the quantity and diversity of nutrients they are able to utilize. This can be integrated into the model by constraining the structure of the nutrient uptake matrix $u_{i \\alpha}$, so that individual consumers can only distribute a finite amount of uptake capacities across all possible nutrients. This can be accomplished in several ways, however, the Dirichlet distribution offers a natural way simulating a finite set of probabilities spread across multiple options. To construct the distributions from which the uptake coeffeicients will be drawn we can define three biologically relevant parameters: $\\theta_{\\alpha}^{i}$ as the concentration parameter of consumer $i$ for each resource $\\alpha$, $\\Omega_{i}$ as the specialisation parameter and $T_{i}$ as magnitude of cellular resources. Here $\\theta_{\\alpha}^{i}$ defines the relative preference a consumer $i$ has for a resource $\\alpha$, $\\Omega_{i}$ represents the degree of specialisation a consumer has across the space of possible resources, and $T_{i}$ is the total amount of resources a consumer can use for nutrient uptake."
   ]
  },
  {
   "cell_type": "markdown",
   "id": "a738b633-953f-4a65-9438-831b68bc8c98",
   "metadata": {},
   "source": [
    "\n",
    "\n",
    "$\\large \\{u_{i1}^{\\prime}, \\dots, u_{iM}^{\\prime} \\} \\sim {\\sf Dirichlet}(\\theta_{1}^{i} \\Omega_{i}, \\dots, \\theta_{M}^{i} \\Omega_{i}) $\n",
    "<br>\n",
    "\n",
    "The structure of the uptake matrix is then completely determined by these three parameters and we can heavily influence it by choosing how they are defined. Assuming a scenario where, for a given consumer, the relative probability of being able to uptake a resource $\\alpha$ is the same for every resource, we can sample $\\theta_{\\alpha}^{i}$ from a uniform distribution such that:\n",
    "<br> <br>\n",
    "$\\large \\theta_{\\alpha}^{i} \\sim {\\sf Uniform}(0, 1)$\n",
    "<br>\n",
    "\n",
    "For $\\Omega_{i}$ we must consider that it is unbounded in the positive reals, where $\\Omega_{i} < 1$ corresponds to consumers that are more likely to consume one resource much better than all others (specialists), $\\Omega_{i} = \\mathcal{O}(1)$ is the trivial case, where all possible combinations of uptake coefficients are equally likely, and towards the limit $\\Omega_{i} \\to \\infty$, where consumers are more likely to uptake a range of different nutrients (generalists).\n",
    "\n",
    "Each set of $u_{i \\alpha}^{\\prime}$ sampled from a dirichlet distribution sum up to unity per consumer species, $\\sum \\limits _{\\alpha = 1}^{M} u_{i \\alpha}^{\\prime} = 1$, symbolising the finite resources consumers can allocate to resource uptake. However, this constraint can be relaxed by assuming that there is variability in the magnitude of resources cells can allocate to uptake.\n",
    "<br><br>\n",
    "$\\large u_{i \\alpha} = T_{i}u_{i \\alpha}^{\\prime}$\n",
    "<br> <br>\n",
    "Where $T_{i}$ is a random coefficient drawn from a gaussian distribution, $T_{i} \\sim {\\sf Norm}(\\mu_{T}, \\sigma_{T}^{2})$."
   ]
  },
  {
   "cell_type": "markdown",
   "id": "ab8636a9-17f6-4635-a2b4-9b4f95c3a774",
   "metadata": {},
   "source": [
    "# The stoichiometric matrix\n",
    "The structure of the stoichiometric matrix is primarily restricted by energy conservation, and may be structured in a variety of ways so long as this constraint is satisfied. A straitforward definition that satisfies this condition is to simply sample $l_{ \\alpha \\beta}^{i}$ from a uniform distribution bounded at $\\frac{1}{M}$.\n",
    "\n",
    "$l_{\\alpha \\beta}^{i} \\sim {\\sf Uniform}(0, \\frac{1}{M})$.\n",
    "\n"
   ]
  },
  {
   "cell_type": "markdown",
   "id": "1b3f5c12-b86e-4e29-8b01-3a2cc761c6f8",
   "metadata": {},
   "source": [
    "# The effective Lotka-Volterra model\n",
    "Assuming a regime where resources achieve equilibrium much faster than consumers, allows us to express the MiCRM dynamical equations solely in terms of the consumers and their interactions. Furthermore, we can reconfigure the terms in a way which gives us an equivalent, generalized Lotka-Volterra model.\n",
    "\\begin{equation}\n",
    "\\large \\frac{dC_{i}}{dt} = r_{i} C_{i} + C_{i} \\sum \\limits _{j = 1} ^{N} \\alpha_{ij}C_{j}\n",
    "\\label{eq:LV} \n",
    "\\end{equation}\n",
    "Fast resource equilibration implies that $\\frac{dR_{\\beta}}{dt} = 0$, giving us the following relationship:\n",
    "\\begin{equation}\n",
    "\\large \\rho_{\\beta} - \\sum \\limits _{i=1} ^{N} u_{i \\beta}R_{\\beta}C_{i} + \\sum \\limits _{\\alpha = 1} ^{M} l_{\\alpha \\beta}^{i}u_{i \\alpha}C_{i}R_{\\alpha} = 0\n",
    "\\label{eq:FR_eq}\n",
    "\\end{equation}\n",
    "Solving for $R_{\\beta} = \\overline{R}_{\\beta}$, we can plug it back into the equation for consumers and perform a Taylor expansion of $\\overline{R}_{\\beta}$ around the set of equilibrium populations $C_{j} = \\overline{C}_{j}$.\n",
    "\\begin{equation}\n",
    "\\large \\frac{1}{C_{i}}\\frac{dC_{i}}{dt} = \\sum \\limits _{\\alpha = 1} ^{M} (1 - \\sum \\limits _{\\beta = 1} ^{M} l_{\\alpha \\beta}^{i} ) u_{i \\alpha}\\overline{R}_{\\alpha}(\\{C_{j}\\}) - m_{i} \n",
    "\\end{equation}\n",
    "Expanding the Taylor series of $\\overline{R}_{\\beta}(\\{C_{j}\\})$ around equilibrium we have:\n",
    "\\begin{equation}\n",
    "\\large \\overline{R}_{\\beta}(\\{C_{j}\\}) = \\overline{R}_{\\beta} + \\sum \\limits _{j = 1} ^{N} \\frac{\\partial \\overline{R}_{\\beta}}{\\partial C_{j}} (C_{j} - \\overline{C}_{j}) + \\mathcal{O}\\left( (C_{j} - \\overline{C}_{j} )^{2} \\right)  \n",
    "\\end{equation}\n",
    "Our final expression for consumer dynamics is then\n",
    "\\begin{equation}\n",
    "\\large \\frac{1}{C_{i}}\\frac{dC_{i}}{dt} = \\sum \\limits _{\\alpha = 1} ^{M} (1 - \\sum \\limits _{\\beta = 1} ^{M} l_{\\alpha \\beta}^{i}) u_{i \\alpha}\\left( \\overline{R}_{\\alpha} + \\sum \\limits _{j = 1} ^{N} \\frac{\\partial \\overline{R}_{\\alpha}}{\\partial C_{j}} (C_{j} - \\overline{C}_{j}) + \\mathcal{O}\\left( (C_{j} - \\overline{C}_{j} )^{2} \\right) \\right)- m_{i}\n",
    "\\end{equation}\n",
    "Here $\\frac{\\partial \\overline{R}_{\\beta}}{\\partial C_{j}}$ can be obtained through direct differentiation of $\\frac{d R_{\\beta}}{dt}$, yielding:\n"
   ]
  },
  {
   "cell_type": "markdown",
   "id": "bfed9939-c2e5-4178-8c7e-83e7da7b7f4f",
   "metadata": {},
   "source": [
    "\\begin{equation}\n",
    "\\large \\left( \\sum \\limits_{\\alpha = 1} ^{M} \\frac{ \\partial \\overline{R}_{\\alpha} }{\\partial C_{j}} \\frac{\\partial \\rho_{\\beta}}{\\partial \\overline{R}_{\\alpha}} \\right) - \\sum \\limits _{i = 1} ^{N} u_{i \\beta} \\left( C_{i} \\frac{\\partial \\overline{R}_{\\beta}}{\\partial C_{j}} + \\delta_{ij} \\overline{R}_{\\beta} \\right) + \\sum \\limits _{\\alpha= 1} ^{M} \\sum \\limits _{i = 1} ^{N} l_{\\beta \\alpha}^{i}u_{i \\alpha} \\left( C_{i} \\frac{\\partial \\overline{R}_{\\alpha}}{\\partial C_{j}} + \\delta_{ij} \\overline{R}_{\\alpha} \\right) = 0  \n",
    "\\end{equation}\n",
    "Solving the equation for the $\\frac{\\partial \\overline{R}_{\\beta}}{\\partial C_{j}}$ we obtain an expression in the form:\n",
    "\n",
    "\\begin{equation}\n",
    "\\large \\sum \\limits _{\\alpha = 1} ^{M} A_{\\beta \\alpha} \\frac{ \\partial \\overline{R}_{\\alpha} }{\\partial C_{j}} = \\sum \\limits _{\\alpha = 1} ^{M}  u_{j \\alpha} \\overline{R}_{\\alpha} (\\delta_{\\beta \\alpha} - l_{\\beta \\alpha}^{j}) \n",
    "\\label{eq:partial_defs}\n",
    "\\end{equation}\n",
    "\n",
    "Where\n",
    "\\begin{equation}\n",
    "\\large\n",
    "A_{\\alpha \\beta} = \\frac{\\partial \\rho_{\\alpha}}{\\partial \\overline{R}_{\\beta}} + \\sum \\limits _{i = 1} ^{N} u_{i \\beta} \\overline{C}_{i}(l_{\\alpha \\beta}^{i} -  \\delta_{\\alpha \\beta})\n",
    "\\end{equation}"
   ]
  },
  {
   "cell_type": "markdown",
   "id": "6acbea2a-baa1-4f29-9981-8e7cb194253d",
   "metadata": {},
   "source": [
    "Inverting $A_{\\alpha \\beta}$ (assuming it is an invertible matrix), we are able to obtain the partial derivatives explicitely.\n",
    "<br><br>\n",
    "\\begin{equation}\n",
    "\\large \\frac{\\partial \\overline{R}_{\\alpha}}{\\partial C_{j}} = \\sum \\limits _{\\beta = 1} ^{M} \\sum \\limits _{\\gamma = 1} ^{M} (A^{-1})_{\\alpha \\beta} u_{j \\beta} (\\delta_{\\beta \\gamma} - l_{\\beta \\gamma}^{j}) \\overline{R}_{\\gamma}  \n",
    "\\end{equation}"
   ]
  },
  {
   "cell_type": "markdown",
   "id": "df3895e2-8ced-4b20-89dc-e147ed2bb255",
   "metadata": {},
   "source": [
    "Finally, to obtain the effective Lotka-Volterra system, we must group terms and find the equivalent characteristic growth rates $r_{i}$, and interaction coefficients $\\alpha_{ij}$. After some algebra we have:\n",
    "\n",
    "The interaction matrix coefficients\n",
    "\\begin{equation}\n",
    " \\alpha_{ij} = \\sum \\limits _{\\alpha = 1} ^{M} u_{i \\alpha} (1 - l_{\\alpha}^{i}) \\frac{\\partial \\overline{R}_{\\alpha}}{\\partial C_{j}}\n",
    "\\end{equation}\n",
    "\n",
    "And their intrinsic growth rates.\n",
    "\\begin{equation}\n",
    "r_{i} = \\sum \\limits _{\\alpha = 1} ^{M} u_{i \\alpha}(1 - l_{\\alpha}^{i} ) \\left[ \\overline{R}_{\\alpha} - \\sum \\limits _{j = 1} ^{N} \\overline{C}_{j} \\frac{\\partial \\overline{R}_{\\alpha}}{\\partial C_{j}}\\right] - m_{i} = \\sum \\limits _{\\alpha = 1} ^{M} u_{i \\alpha}(1 - l_{\\alpha}^{i} )\\overline{R}_{\\alpha} - \\sum \\limits _{j = 1} ^{N} \\alpha_{ij} \\overline{C}_{j} - m_{i}\n",
    "\\end{equation}"
   ]
  },
  {
   "cell_type": "markdown",
   "id": "5d86c5dd-469c-4143-87ff-3df48a1f6cde",
   "metadata": {},
   "source": [
    "Having defined these coefficients, we are able to construct an equivalent Lotka-Volterra model for any given system of consumers and resources. The prerequisite, of course, is that our initial MiCRM system of equations must reach equilibrium asymptotically, and that these equilibrium values ($\\overline{C}_{i}$ and $\\overline{R}_{\\alpha}$) be known."
   ]
  },
  {
   "cell_type": "markdown",
   "id": "54b61314-3557-488a-bc5b-310d7dc9ca9b",
   "metadata": {},
   "source": [
    "# Two consumers and two resources\n",
    "\n",
    "To illustrate the dynamical behavior of these systems of equations, we can start by modelling a simple community consisting of two consumers ($C_{1}$ and $C_{2}$) and two resources ($R_{1}$ and $R_{2})$."
   ]
  },
  {
   "cell_type": "markdown",
   "id": "39740d7c-5083-4027-a8e1-2b68964efdac",
   "metadata": {},
   "source": [
    "\\begin{equation}\n",
    "\\large \\frac{1}{C_{1}} \\frac{ d C_{1} }{ dt } = u_{11}(1 - l_{1}^{1})R_{1} + u_{12}(1-l_{2}^{1})R_{2} - m_{1}\n",
    "\\end{equation}\n",
    "\n",
    "\\begin{equation}\n",
    "\\large \\frac{1}{C_{2}} \\frac{ d C_{2} }{ dt } = u_{21}(1 - l_{1}^{2})R_{1} + u_{22}(1-l_{2}^{2})R_{2} - m_{2}\n",
    "\\end{equation}\n",
    "\n",
    "\\begin{equation}\n",
    "\\large \\frac{d R_{1}}{dt} = \\rho_{1} - \\sum \\limits _{i=1} ^{2} u_{i1} R_{1} C_{i} + \\sum \\limits _{\\alpha = 1} ^{2} l_{1 \\alpha}^{i} u_{i \\alpha} C_{i} R_{\\alpha}\n",
    "\\end{equation}\n",
    "\n",
    "\\begin{equation}\n",
    "\\large \\frac{d R_{2}}{dt} = \\rho_{2} - \\sum \\limits _{i=1} ^{2} u_{i1} R_{2} C_{i} + \\sum \\limits _{\\alpha = 1} ^{2} l_{2 \\alpha}^{i} u_{i \\alpha} C_{i} R_{\\alpha}\n",
    "\\end{equation}"
   ]
  },
  {
   "cell_type": "markdown",
   "id": "9fda606e-3813-4ed1-a059-79f6b57de038",
   "metadata": {},
   "source": [
    "From these equations we can derive the effective Lotka-Volterra system. For convinience we define our supply functions $\\rho_{\\alpha} = \\overline{\\rho}_{\\alpha} - \\omega_{\\alpha}R_{\\alpha}$, where $\\overline{\\rho}_{\\alpha}$ is the inflow of resource $R_{\\alpha}$, and $\\omega_{\\alpha}$ is the outflow parameter. The next step in deriving the effective LV system is to determine the elements of matrix $\\bf{A}$.\n"
   ]
  },
  {
   "cell_type": "markdown",
   "id": "bcc31802-504a-4840-9aa5-3d11f85f2d84",
   "metadata": {},
   "source": [
    "\\begin{align}\n",
    "&  A_{11} = -\\omega_{1} - \\overline{C}_{1}u_{11}(1 - l_{11}^{1}) - \\overline{C}_{2}u_{21}(1 - l_{11}^{2}) \\\\\n",
    "&  A_{12} = \\overline{C}_{1}u_{12}l_{12}^{1} + \\overline{C}_{2}u_{22}l_{12}^{2} \\\\\n",
    "&  A_{21} = \\overline{C}_{1}u_{11}l_{21}^{1} + \\overline{C}_{2}u_{21}l_{21}^{2} \\\\\n",
    "&  A_{22} = -\\omega_{2} - \\overline{C}_{1}u_{12}(1 - l_{22}^{1}) - \\overline{C}_{2}u_{22}(1 - l_{22}^{2}) \\\\\n",
    "\\end{align}"
   ]
  },
  {
   "cell_type": "markdown",
   "id": "dade8890-77f1-4f6d-b555-589dcdf995b9",
   "metadata": {},
   "source": [
    "Let us note that for low enough values of leakage we should expect that $1 - l_{\\alpha \\beta}^{i} > l_{\\alpha \\beta}^{i}$, thus the diagonal components of $\\bf{A}$ will be negative and $\\det{\\bf{A}} > 0$, meaning that the components of $\\bf{A}^{-1}$ will be all negative."
   ]
  },
  {
   "cell_type": "markdown",
   "id": "8c548264-5803-4acc-ba20-e0abb11f9dc3",
   "metadata": {},
   "source": [
    "\\begin{equation}\n",
    "\\large\n",
    "A^{-1} = \\frac{1}{(A_{11}A_{22} - A_{12}A_{21})} = \n",
    "\\begin{bmatrix} \n",
    "A_{22} & -A_{21} \\\\ \n",
    "-A_{12} & A_{11} \n",
    "\\end{bmatrix}\n",
    "\\end{equation}"
   ]
  },
  {
   "cell_type": "markdown",
   "id": "7c00a8a0-e3f8-46d1-967f-d978d9f03d7b",
   "metadata": {},
   "source": [
    "Having calculated $\\bf{A}^{-1}$ we can now obtain the partial derivatives of our equilibrium resources with respect to consumers.\n",
    "\n",
    "\\begin{align}\n",
    "& \\frac{\\partial \\overline{R}_{1}}{\\partial C_{1}} = (A^{-1})_{11} u_{11} \\left[(1 - l_{11}^{1}) \\overline{R}_{1} - l_{12}^{1} \\overline{R}_{2} \\right] + (A^{-1})_{12} u_{12} \\left[ -l_{21}^{1} \\overline{R}_{1} + (1 - l_{22}^{1}) \\overline{R}_{2} \\right] \\\\\n",
    "&  \\frac{\\partial \\overline{R}_{1}}{\\partial C_{2}} = (A^{-1})_{11} u_{21} \\left[(1 - l_{11}^{2}) \\overline{R}_{1} - l_{12}^{2} \\overline{R}_{2} \\right] + (A^{-1})_{12} u_{22} \\left[ -l_{21}^{2} \\overline{R}_{1} + (1 - l_{22}^{2}) \\overline{R}_{2} \\right] \\\\\n",
    "&  \\frac{\\partial \\overline{R}_{2}}{\\partial C_{1}} = (A^{-1})_{21} u_{11} \\left[(1 - l_{11}^{1}) \\overline{R}_{1} - l_{12}^{1} \\overline{R}_{2} \\right] + (A^{-1})_{22} u_{12} \\left[ -l_{21}^{1} \\overline{R}_{1} + (1 - l_{22}^{1}) \\overline{R}_{2} \\right] \\\\\n",
    "& \\frac{\\partial \\overline{R}_{2}}{\\partial C_{2}} = (A^{-1})_{21} u_{21} \\left[(1 - l_{11}^{2}) \\overline{R}_{1} - l_{12}^{2} \\overline{R}_{2} \\right] + (A^{-1})_{22} u_{22} \\left[ -l_{21}^{2} \\overline{R}_{1} + (1 - l_{22}^{2}) \\overline{R}_{2} \\right] \n",
    "\\end{align}\n",
    "\n",
    "We can see that the shape of these equations allows for the $\\frac{ \\partial \\overline{R}_{\\alpha}}{\\partial C_{j}}$ terms to be either negative or positive. At a glance we can observe that for low values of leakage they will be negative, but with increasingly high leakage equilibrium resources can actually increase in proportion to the biomass of specific consumers. This, of course, is what allows for the interaction matrix coefficients to be positive signalling the importance of leakage for cooperative behaviours to emerge."
   ]
  },
  {
   "cell_type": "markdown",
   "id": "807ece46-0f02-4eaf-b248-7354523e7cec",
   "metadata": {},
   "source": [
    "# Dimensional analysis\n",
    "\n",
    "## A dimensionless MiCRM\n",
    "\n",
    "To simplify the dimensional analysis of the MiCRM equations, we can transform our variables and parameters such that they are independent of scale. The first step to this non-dimensionalisation is to redefine our dependent and independent variables $C_{i}$, $R_{\\alpha}$, and $t$ as the dimensionless ones $X_{i}$, $Y_{\\alpha}$ and $\\tau$, respectively. \n",
    "\\begin{align}\n",
    "\\large X_{i} = a_{i}C_{i}, \\quad Y_{\\alpha} = b_{\\alpha}R_{\\alpha}, \\quad \\tau = ct \\tag{6.1}\n",
    "\\end{align}"
   ]
  },
  {
   "cell_type": "markdown",
   "id": "9f98d6f9-2b50-4025-aea1-462a2a7e36ab",
   "metadata": {},
   "source": [
    "We choose $a_{i} \\sim mass^{-1}$, $b_{\\alpha} \\sim mass^{-1}$, and $c \\sim time^{-1}$ such that they are power products of parameters of the system. Arbitraritly we define:\n",
    "\n",
    "\\begin{equation}\n",
    "\\large c = \\frac{1}{N} \\sum \\limits _{i = 1} ^{N} m_{i} = \\hat{m}, \\quad a_{i} = \\frac{1}{\\hat{m}}\\sum \\limits _{\\alpha = 1} ^{M} u_{i \\alpha} = \\frac{T_{i}}{\\hat{m}}, \\quad b_{\\alpha} = \\frac{1}{\\hat{m}} \\sum \\limits _{i=1} ^{N} u_{i \\alpha} = \\frac{U_{\\alpha}}{\\hat{m}} \\tag{6.2}\n",
    "\\end{equation}\n",
    "\n",
    "We compute our dimensionless derivatives.\n",
    "\n",
    "\\begin{align}\n",
    "\\large \\frac{dC_{i}}{dt} = \\frac{d}{dt}\\left( \\frac{X_{i}}{a_{i}} \\right) = \\frac{1}{a_{i}} \\left( \\frac{dX_{i}}{d\\tau} \\right) \\left( \\frac{d\\tau}{dt} \\right) = \\frac{c}{a_{i}} \\frac{dX_{i}}{d\\tau} \\tag{6.3} \\\\\n",
    "\\large \\frac{dR_{\\alpha}}{dt} = \\frac{d}{dt}\\left( \\frac{Y_{\\alpha}}{b_{\\alpha}} \\right) = \\frac{1}{b_{\\alpha}} \\left( \\frac{dY_{\\alpha}}{d\\tau} \\right) \\left( \\frac{d\\tau}{dt} \\right) = \\frac{c}{b_{\\alpha}} \\frac{dY_{\\alpha}}{d\\tau} \\tag{6.4}\n",
    "\\end{align}\n",
    "\n",
    "And substitute back into the differential equations.\n",
    "\n",
    "\\begin{align}\n",
    "& \\large \\frac{dX_{i}}{d\\tau} = \\frac{X_{i}}{c} \\sum \\limits _{\\alpha = 1} ^{M} (1 - l_{\\alpha}^{i}) u_{i \\alpha} \\frac{Y_{\\alpha}}{b_{\\alpha}} - \\frac{X_{i}}{c}m_{i} \\tag{6.5} \\\\\n",
    "& \\large \\frac{dY_{\\beta}}{d\\tau} = \\frac{b_{\\beta}}{c}\\rho_{\\beta} - \\frac{Y_{\\beta}}{c} \\sum \\limits _{i = 1} ^{N} u_{i \\beta} \\frac{X_{i}}{a_{i}} + \\frac{b_{\\beta}}{c} \\sum \\limits _{\\alpha = 1} ^{m} \\sum \\limits _{i = 1} ^{N} l_{\\alpha \\beta}^{i}u_{i \\alpha} \\frac{X_{i}}{a_{i}} \\frac{Y_{\\alpha}}{b_{\\alpha}} \\tag{6.6}\n",
    "\\end{align}"
   ]
  },
  {
   "cell_type": "markdown",
   "id": "b9c8938e-535b-4a43-87a3-f76f8f566e3b",
   "metadata": {},
   "source": [
    "Substituting $a_{i}$, $b_{\\alpha}$, and $c$ using our previous definitions, our dimensionless system becomes:\n",
    "\n",
    "\\begin{align}\n",
    "& \\large \\frac{dX_{i}}{d\\tau} = \\frac{X_{i}}{\\hat{m}} \\sum \\limits _{\\alpha = 1} ^{M} (1 - l_{\\alpha}^{i}) u_{i \\alpha} \\frac{\\hat{m}Y_{\\alpha}}{U_{\\alpha}} - \\frac{X_{i}}{\\hat{m}}m_{i} \\tag{6.7} \\\\\n",
    "& \\large \\frac{dY_{\\beta}}{d\\tau} = \\frac{U_{\\beta}}{\\hat{m}^{2}}\\rho_{\\beta} - \\frac{Y_{\\beta}}{\\hat{m}} \\sum \\limits _{i = 1} ^{N} u_{i \\beta} \\frac{\\hat{m}X_{i}}{T_{i}} + \\frac{U_{\\beta}}{\\hat{m}^{2}} \\sum \\limits _{\\alpha = 1} ^{M} \\sum \\limits _{i = 1} ^{N} l_{\\alpha \\beta}^{i}u_{i \\alpha} \\frac{\\hat{m}X_{i}}{T_{i}} \\frac{\\hat{m}Y_{\\alpha}}{U_{\\alpha}} \\tag{6.8}\n",
    "\\end{align}\n"
   ]
  },
  {
   "cell_type": "markdown",
   "id": "4b7c01e2-4ae1-4702-8ebd-18b44a5e4b67",
   "metadata": {},
   "source": [
    "Some terms cancel and the equation simplifies further.\n",
    "\n",
    "\\begin{align}\n",
    "& \\large \\frac{dX_{i}}{d\\tau} = X_{i}\\sum \\limits _{\\alpha = 1} ^{M} (1 - l_{\\alpha}^{i}) u_{i \\alpha} \\frac{Y_{\\alpha}}{\n",
    "U_{\\alpha}} - \\frac{m_{i}}{\\hat{m}}X_{i} \\tag{6.9} \\\\\n",
    "& \\large \\frac{dY_{\\beta}}{d\\tau} = \\frac{U_{\\beta}}{\\hat{m}^{2}}\\rho_{\\beta} - Y_{\\beta} \\sum \\limits _{i = 1} ^{N} u_{i \\beta} \\frac{X_{i}}{T_{i}}+ U_{\\beta} \\sum \\limits _{\\alpha = 1} ^{M} \\sum \\limits _{i = 1} ^{N} l_{\\alpha \\beta}^{i}u_{i \\alpha} \\frac{X_{i}}{T_{i}} \\frac{Y_{\\alpha}} {U_{\\alpha}} \\tag{6.10}\n",
    "\\end{align}"
   ]
  },
  {
   "cell_type": "markdown",
   "id": "700ae09d-9dc0-4f5c-a438-77c563d9b40a",
   "metadata": {},
   "source": [
    "We can now note our set of dimensionless parameters and put them in a biologically meaninful context.\n",
    "\n",
    "\\begin{equation}\n",
    "\\large \\frac{u_{i \\alpha}}{U_{\\alpha}} \\equiv \\frac{\\text{uptake of $\\alpha$ by $i$}}{\\text{Total uptake of $\\alpha$ by all consumers}} \\tag{6.11}\n",
    "\\end{equation}\n",
    "\n",
    "\\begin{equation}\n",
    "\\large \\frac{u_{i \\alpha}}{T_{i}} \\equiv \\frac{\\text{uptake of $\\alpha$ by $i$}}{\\text{Total resource uptake of $i$}} \\tag{6.12}\n",
    "\\end{equation}\n",
    "\n",
    "We rearrange some of the terms to better visualize relationships.\n",
    "\n",
    "\\begin{align}\n",
    "& \\large \\frac{dX_{i}}{d\\tau} = X_{i}\\sum \\limits _{\\alpha = 1} ^{M} (1 - l_{\\alpha}^{i}) \\frac{u_{i \\alpha}}{\n",
    "U_{\\alpha}}Y_{\\alpha} - \\frac{m_{i}}{\\hat{m}}X_{i} \\tag{6.13} \\\\\n",
    "& \\large \\frac{dY_{\\beta}}{d\\tau} = \\frac{U_{\\beta}}{\\hat{m}^{2}}\\rho_{\\beta} - Y_{\\beta} \\sum \\limits _{i = 1} ^{N} \\frac{u_{i \\beta}}{T_{i}}X_{i} +  \\sum \\limits _{\\alpha = 1} ^{M} \\sum \\limits _{i = 1} ^{N} l_{\\alpha \\beta}^{i} \\frac{u_{i \\alpha}}{T_{i}} \\frac{U_{\\beta}}{U_{\\alpha}} X_{i}Y_{\\alpha} \\tag{6.14}\n",
    "\\end{align} \n"
   ]
  },
  {
   "cell_type": "markdown",
   "id": "90046914-02d0-4aac-8735-45ea2f94e6cd",
   "metadata": {},
   "source": [
    "## Parameters and scale\n",
    "\n",
    "Having derived the dimensionless system given by equations [6.13] and [6.14], we can make some observations about how the parameter space may affect the large scale dynamics. For example, in the linear response term for consumers, the structure of the uptake matrix will ultimately bias how consumers react to different resources.\n",
    "\n",
    "\\begin{equation}\n",
    "\\large \\sum \\limits _{\\alpha = 1} ^{M} (1 - l_{\\alpha}^{i})\\frac{u_{i \\alpha}}{U_{\\alpha}}Y_{\\alpha} \\tag{6.2.1}\n",
    "\\end{equation}\n",
    "\n",
    "Resources which are popular among consumers will naturally have a greater $U_{\\alpha}$, while resources which are more sparsely distributed throughout the uptake matrix will have a lower $U_{\\alpha}$. Similarly, $u_{i\\alpha}$ terms for generalist species will tend to be non-zero, however, moderate in magnitude; for specialist species $u_{i \\alpha}$ terms will be mostly zero with only a small number of very influential resources. These simple observations allow us to see that in communities dominated by generalists, individual resources will have a small but cummulative effect on net uptake, reducing the dependence of consumers on a single resource and mitigating the effects of competition. In communities dominated by specialists single resources will have a disproportionally large impact on growth - as would be expected - and will be dominated by competitive interactions. \n"
   ]
  },
  {
   "cell_type": "markdown",
   "id": "d7f601cd-9378-44fa-9e85-9046d073fa28",
   "metadata": {},
   "source": [
    "## Linearization and Jacobian stability analysis\n",
    "\n",
    "Since we are interested in the characteristic timescales of both consumers and resources as well as the stability of equilibrium solutions, it is useful to analyze the behaviour of the linearized system about equilibrium. To do this we assume a non trivial equilibrium solutions, $\\overline{X}$ and $\\overline{Y}$, exist and reevaluate at a small perturbation away from the fixed points.\n",
    "\n",
    "\\begin{align}\n",
    "& \\large \\phi(t) = X(t) - \\overline{X} \\\\\n",
    "& \\large \\omicron(t) = Y(t) - \\overline{Y}\n",
    "\\end{align}\n",
    "\n",
    "Now differentiation provides\n",
    "\n",
    "\\begin{align}\n",
    "& \\large \\dot{\\phi} = \\dot{X} = f(X, Y) = f(\\overline{X} + \\phi, \\overline{Y} + \\omicron) \\\\\n",
    "& \\large \\dot{\\omicron} = \\dot{Y} = g(X, Y) = g(\\overline{X} + \\phi, \\overline{Y} + \\omicron)\n",
    "\\end{align}\n",
    "\n",
    "To simplify the analysis we combine our dependent variables $X$ and $Y$ into a vector $Z$ and the response functions $f(X, Y)$ and $g(X, Y)$ into a single response function $H(Z) = H(\\overline{Z} + \\nu)$, with $\\nu$ our combined perturbation vector. We then perform a Taylor expansion around $\\overline{Z}$\n",
    "\n",
    "\\begin{align}\n",
    "& \\large H(\\overline{Z} + \\nu) = H(\\overline{Z}) + \\nu H^{\\prime} ( \\overline{Z}) + \\mathcal{O}(\\nu^{2})\n",
    "\\end{align}\n",
    "\n",
    "By definition $H(\\overline{Z}) = 0$, and since our perturbation is small ($\\nu << 1$) we neglect higher order terms, thus\n",
    "\n",
    "\\begin{equation}\n",
    "\\large \\dot{\\nu} = \\nu H^{\\prime} ( \\overline{Z})\n",
    "\\end{equation}\n",
    "\n",
    "Where $H^{\\prime}(\\overline{Z})$ is the Jacobian of the response function evaluated at the fixed points $\\overline{Z}$. With this linearization we can evaluate the behaviour around equilibrium for any small perturbation $\\nu$ given that $\\nu H^{\\prime}(\\overline{Z})$ does not contain any non-trivial zeroes. Additionally, by performing an eigensolution decomposition of our linearized system we can gain some insight into the stability of any non-hyperbolic fixed point (that is, fixed points for which the real parts of the eigenvalues of the Jacobian are non-zero). \n",
    "\n",
    "To proceed we must first explicitly derive the Jacobian of our system. We first note that the set of state variables $\\{ Z_{i} \\}$ for $i \\in \\{1, \\dots, N \\}$ is equivalent to $\\{X_{i} \\}$, and  $\\{Z_{i} \\} = \\{ Y_{\\alpha} \\}$ for $i \\in \\{ N+1, \\dots, N+M \\}$. Now, we can derive the diagonal terms for the consumer portion of the jacobian ($i = \\{1, \\dots, N \\}$).\n"
   ]
  },
  {
   "cell_type": "markdown",
   "id": "e3b47047-e24f-4e89-99b9-8161dfeaf47f",
   "metadata": {},
   "source": [
    "\\begin{equation}\n",
    "J_{ii}(\\overline{Z}) = \\frac{\\partial}{\\partial X_{i}}H_{i}(\\overline{Z}) = \\sum \\limits_{\\alpha = 1}^{M} (1-l_{\\alpha}^{i})\\frac{u_{i \\alpha}}{U_{\\alpha}} \\overline{Y}_{\\alpha} - m_{i}\n",
    "\\end{equation}\n",
    "\n",
    "And the off diagonal terms for the consumer portion are simply zero:\n",
    "\n",
    "\\begin{equation}\n",
    "J_{ij}(\\overline{Z}) = 0 \\quad \\text{for} \\quad i \\neq j, \\quad i,j \\in \\{1, \\dots, N \\}\n",
    "\\end{equation}\n",
    "\n",
    "The off diagonal terms for consumers with respect to resources are:\n",
    "\n",
    "\\begin{equation}\n",
    "J_{i \\alpha}(\\overline{Z}) = \\overline{X}_{i} (1-l_{\\alpha}^{i}) \\frac{u_{i \\alpha}}{U_{\\alpha}}, \\quad i \\in \\{1, \\dots, N \\}, \\quad \\alpha \\in \\{N+1, \\dots, N+M \\}\n",
    "\\end{equation}\n",
    "\n",
    "For the resource states we can see that the diagonal terms will be:\n",
    "\n",
    "\\begin{equation}\n",
    "J_{\\alpha \\alpha}(\\overline{Z}) = \\frac{\\partial}{\\partial Y_{\\alpha}}H_{\\alpha}(\\overline{Z}) = \\frac{U_{\\alpha}}{\\hat{m}^{2}}\\frac{\\partial \\rho_{\\alpha}}{\\partial Y_{\\alpha}} + \\sum \\limits _{i = 1}^{N} \\frac{u_{i \\alpha}}{T_{i}} \\overline{X}_{i} (l_{\\alpha \\alpha}^{i} - 1) , \\quad \\alpha \\in \\{N+1, \\dots, N+M \\}\n",
    "\\end{equation}\n",
    "\n",
    "The off diagonal terms with respect to consumers:\n",
    "\n",
    "\\begin{equation}\n",
    "J_{\\alpha i}(\\overline{Z}) = \\frac{U_{\\alpha}}{\\hat{m}^{2}}\\frac{\\partial \\rho_{\\alpha}}{\\partial X_{i}} + \\frac{u_{i \\alpha}}{T_{i}}\\overline{Y}_{\\alpha}(l_{\\alpha \\alpha}^{i}-1) + \\sum \\limits _{\\beta \\neq \\alpha} ^{M} l_{\\beta \\alpha}^{i} \\frac{u_{i \\beta}}{T_{i}}\\frac{U_{\\alpha}}{U_{\\beta}} \\overline{Y}_{\\beta}  , \\quad \\alpha \\in \\{N+1, \\dots, N+M \\}, \\quad i \\in \\{1, \\dots, N \\}\n",
    "\\end{equation}\n",
    "\n",
    "And, finally, the off diagonal terms with respect to resources:\n",
    "\n",
    "\\begin{equation}\n",
    "J_{\\alpha \\beta}(\\overline{Z}) = \\frac{U_{\\alpha}}{\\hat{m}^{2}}\\frac{\\partial \\rho_{\\alpha}}{\\partial Y_{\\beta}} + \\frac{U_{\\alpha}}{U_{\\beta}} \\sum \\limits _{i = 1}^{N} l_{\\beta \\alpha}^{i} \\frac{u_{i \\beta}}{T_{i}} \\overline{X}_{i}, \\quad \\alpha \\neq \\beta, \\quad \\alpha, \\beta \\in \\{N+1, \\dots, N+M \\}\n",
    "\\end{equation}\n"
   ]
  },
  {
   "cell_type": "markdown",
   "id": "175cd79d-077b-4367-aace-dc3149826d12",
   "metadata": {},
   "source": [
    "# Linking leakage, uptake and respiration\n",
    "While uptake and leakage have been somewhat constrained using simple structural arguments and conservation of energy, this alone will seldom generate metabolically feasible comsumers. Of primary interest is the set of tradeoffs that arise between metabolic efficiency, leakage, respiration, and uptake.\n",
    "\n",
    "Our first argument in this vein is that the ability to uptake and metabolize nutrients comes at a cost, primarily reflected by the energy required to produce enzymes and maintain the genetic machinery responsible for those metabolic pathways. In simple terms, respiration is proportional to total uptake capacity.\n",
    "\n",
    "\\begin{equation}\n",
    "m_{i} \\propto T_{i}\n",
    "\\end{equation}\n",
    "\n",
    "While the exact scaling of respiration rate with respect to uptake is uncertain, there is hope that experimental work will provide a relationship based on metabolic rates and genome size. Furthermore, existing experimental work may shed some light into the basal metabolic rates of microbes without necessarily linking uptake and respiration, posing a straitforward route to bounding $m_{i}$\n",
    "\n",
    "On the other hand uptake (as in the ability to take in a resource and fix a portion of it as biomass) has a more indirect link to metabolic leakage. In principle, total uptake can be separated into two components: $g_{i\\alpha}$ and $c_{i \\alpha}$, where $g_{i \\alpha}$ represents the gross amount of a resource $\\alpha$ ingested by consumer $i$, and $c_{i \\alpha}$ is the metabolic cost of turning that resource into biomass. We can then define the net uptake $u_{i \\alpha}$ as:\n",
    "\n",
    "\\begin{equation}\n",
    "u_{i \\alpha} = g_{i \\alpha} - c_{i \\alpha}\n",
    "\\end{equation}\n",
    "\n",
    "And the metabolic efficiency of $\\alpha$ in $i$ is then\n",
    "\n",
    "\\begin{equation}\n",
    "\\eta_{i \\alpha} = \\frac{g_{i \\alpha} - c_{i \\alpha}}{g_{i \\alpha}}\n",
    "\\end{equation}\n",
    "\n",
    "The link to leakage requires one further assumption, that is, that being highly efficient at metabolizing a particular resource means that fewer metabolites will be leaked as a result of its consumption. We can roughly state this as\n",
    "\n",
    "\\begin{equation}\n",
    "l_{\\alpha}^{i} \\propto \\frac{1}{\\eta_{i \\alpha}}\n",
    "\\end{equation}\n",
    "\n",
    "A better way of visualizing this assumption, and indeed justify it, is that leakage is simply a portion of the metabolic cost associated with a resource. \n",
    "\n",
    "\\begin{equation}\n",
    "c_{i \\alpha} = d_{i \\alpha} + l_{\\alpha}^{i}\n",
    "\\end{equation}\n",
    "\n",
    "Here we can view $d_{i \\alpha}$ as the energy (or mass) lost purely through thermal dissipation, which imposes an additional thermodynamic constraint on metabolism, irreversibility. As resources are broken down by enzymes to produce usable energy (in the form of ATP) they must necessarily suffer a loss of free energy, resulting in less energetic metabolites. Additionally, the energy gained from this metabolic cleavage cannot match the change in free energy between your initial resource and the final metabolized byproducts. To guarantee that the second law of thermodynamics is not violated $d_{i \\alpha}$ must necessarily be greater than zero, and since there is no feasible way to chemically utilize the entirety of a resource's free energy, there is no scenario where byproducts are not formed (whether or not they are secreted is another matter), thus $l_{\\alpha}^{i} > 0$."
   ]
  },
  {
   "cell_type": "markdown",
   "id": "e2d0c5a9-db87-4557-aa98-3795b885d964",
   "metadata": {},
   "source": [
    "While these arguments are trivial in a thermodynamic sense, they offer a way to structure an organism's metabolic tradeoffs beyond mere guesswork. Given a resource it is straightforward to see that leakage is necessarily constrained by\n",
    "\n",
    "\\begin{equation}\n",
    "0 \\leq l_{\\alpha}^{i} \\leq g_{i \\alpha} - u_{i \\alpha} - d_{i\\alpha}\n",
    "\\end{equation}\n",
    "\n",
    "We settle on the inequalities here because while metbolites are always produced, they need not be excreted. For simplicity, however, we can assume that metabolites are not retained, thus:\n",
    "\n",
    "\\begin{equation}\n",
    "l_{\\alpha}^{i} = g_{i \\alpha} - u_{i \\alpha} - d_{i \\alpha}\n",
    "\\end{equation}\n",
    "\n",
    "While this, admittedly, adds to the parametric bulk of the model, it allows for a more intuitive and mechanistic way to parametrize consumers. More importantly, the new parameters are empirically tractable. While challenging, the metabolic efficiencies of resources $\\eta_{i\\alpha}$, can be determined from both theoretical and experimental data along with the net uptakes $u_{i \\alpha}$ (single culture supply points). The only remaining unkown becomes $d_{i \\alpha}$, which can be seen as the heat dissipated by microbial communities as they metabolize a particular resource, a phenomenon that is easily observed in bioreactors and compost heaps. \n",
    "\n"
   ]
  },
  {
   "cell_type": "code",
   "execution_count": null,
   "id": "ecf29acc-ef2b-447c-81a2-6a7b4304d013",
   "metadata": {},
   "outputs": [],
   "source": []
  }
 ],
 "metadata": {
  "@webio": {
   "lastCommId": "0328ea7f-9320-49a1-a342-eb55311ee939",
   "lastKernelId": "d4af7036-941f-4f00-ac49-f6829bbca3ff"
  },
  "kernelspec": {
   "display_name": "Python 3 (ipykernel)",
   "language": "python",
   "name": "python3"
  },
  "language_info": {
   "codemirror_mode": {
    "name": "ipython",
    "version": 3
   },
   "file_extension": ".py",
   "mimetype": "text/x-python",
   "name": "python",
   "nbconvert_exporter": "python",
   "pygments_lexer": "ipython3",
   "version": "3.10.4"
  }
 },
 "nbformat": 4,
 "nbformat_minor": 5
}
